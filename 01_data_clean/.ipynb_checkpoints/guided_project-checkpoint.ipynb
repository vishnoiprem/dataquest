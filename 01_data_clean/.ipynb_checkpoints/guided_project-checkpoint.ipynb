{
 "cells": [
  {
   "cell_type": "raw",
   "metadata": {},
   "source": [
    "Vectorized string methods to clean string columns\n",
    "The apply(), map(), and applymap() methods to transform data\n",
    "The fillna(), dropna(), and drop() methods to drop missing or unnecessary values\n",
    "The melt() function to reshape data\n",
    "The concat() and merge() functions to combine data\n",
    " string methods to clean string columns\n",
    "The apply(), map(), and applymap() methods to transform data\n",
    "The fillna(), dropna(), and drop() methods to drop missing or unnecessary values\n",
    "The melt() function to reshape data\n",
    "The concat() and merge() functions to combine data\n"
   ]
  },
  {
   "cell_type": "raw",
   "metadata": {},
   "source": [
    "Start by writing a paragraph in a markdown cell introducing the project and the dataset.\n",
    "Import the pandas and NumPy libraries.\n",
    "Read the dete_survey.csv CSV file into pandas, and assign it to the variable name dete_survey.\n",
    "Read the tafe_survey.csv CSV file into pandas, and assign it to the variable name tafe_survey.\n",
    "Use the DataFrame.info() and DataFrame.head() methods to print information about both dataframes, as well as the first few rows. Use other data exploration methods such as the Series.value_counts() and DataFrame.isnull() methods to explore the data and figure out some next steps.\n",
    "Write a markdown cell briefly describing your observations.\n"
   ]
  },
  {
   "cell_type": "code",
   "execution_count": 1,
   "metadata": {},
   "outputs": [],
   "source": [
    "import numpy as np\n",
    "import pandas as pd"
   ]
  },
  {
   "cell_type": "code",
   "execution_count": 2,
   "metadata": {},
   "outputs": [],
   "source": [
    "dete_survey=pd.read_csv(\"dete_survey.csv\")"
   ]
  },
  {
   "cell_type": "code",
   "execution_count": 3,
   "metadata": {},
   "outputs": [
    {
     "data": {
      "text/html": [
       "<div>\n",
       "<style scoped>\n",
       "    .dataframe tbody tr th:only-of-type {\n",
       "        vertical-align: middle;\n",
       "    }\n",
       "\n",
       "    .dataframe tbody tr th {\n",
       "        vertical-align: top;\n",
       "    }\n",
       "\n",
       "    .dataframe thead th {\n",
       "        text-align: right;\n",
       "    }\n",
       "</style>\n",
       "<table border=\"1\" class=\"dataframe\">\n",
       "  <thead>\n",
       "    <tr style=\"text-align: right;\">\n",
       "      <th></th>\n",
       "      <th>ID</th>\n",
       "      <th>SeparationType</th>\n",
       "      <th>Cease Date</th>\n",
       "      <th>DETE Start Date</th>\n",
       "      <th>Role Start Date</th>\n",
       "      <th>Position</th>\n",
       "      <th>Classification</th>\n",
       "      <th>Region</th>\n",
       "      <th>Business Unit</th>\n",
       "      <th>Employment Status</th>\n",
       "      <th>...</th>\n",
       "      <th>Kept informed</th>\n",
       "      <th>Wellness programs</th>\n",
       "      <th>Health &amp; Safety</th>\n",
       "      <th>Gender</th>\n",
       "      <th>Age</th>\n",
       "      <th>Aboriginal</th>\n",
       "      <th>Torres Strait</th>\n",
       "      <th>South Sea</th>\n",
       "      <th>Disability</th>\n",
       "      <th>NESB</th>\n",
       "    </tr>\n",
       "  </thead>\n",
       "  <tbody>\n",
       "    <tr>\n",
       "      <th>0</th>\n",
       "      <td>1</td>\n",
       "      <td>Ill Health Retirement</td>\n",
       "      <td>08/2012</td>\n",
       "      <td>1984</td>\n",
       "      <td>2004</td>\n",
       "      <td>Public Servant</td>\n",
       "      <td>A01-A04</td>\n",
       "      <td>Central Office</td>\n",
       "      <td>Corporate Strategy and Peformance</td>\n",
       "      <td>Permanent Full-time</td>\n",
       "      <td>...</td>\n",
       "      <td>N</td>\n",
       "      <td>N</td>\n",
       "      <td>N</td>\n",
       "      <td>Male</td>\n",
       "      <td>56-60</td>\n",
       "      <td>NaN</td>\n",
       "      <td>NaN</td>\n",
       "      <td>NaN</td>\n",
       "      <td>NaN</td>\n",
       "      <td>Yes</td>\n",
       "    </tr>\n",
       "    <tr>\n",
       "      <th>1</th>\n",
       "      <td>2</td>\n",
       "      <td>Voluntary Early Retirement (VER)</td>\n",
       "      <td>08/2012</td>\n",
       "      <td>Not Stated</td>\n",
       "      <td>Not Stated</td>\n",
       "      <td>Public Servant</td>\n",
       "      <td>AO5-AO7</td>\n",
       "      <td>Central Office</td>\n",
       "      <td>Corporate Strategy and Peformance</td>\n",
       "      <td>Permanent Full-time</td>\n",
       "      <td>...</td>\n",
       "      <td>N</td>\n",
       "      <td>N</td>\n",
       "      <td>N</td>\n",
       "      <td>Male</td>\n",
       "      <td>56-60</td>\n",
       "      <td>NaN</td>\n",
       "      <td>NaN</td>\n",
       "      <td>NaN</td>\n",
       "      <td>NaN</td>\n",
       "      <td>NaN</td>\n",
       "    </tr>\n",
       "    <tr>\n",
       "      <th>2</th>\n",
       "      <td>3</td>\n",
       "      <td>Voluntary Early Retirement (VER)</td>\n",
       "      <td>05/2012</td>\n",
       "      <td>2011</td>\n",
       "      <td>2011</td>\n",
       "      <td>Schools Officer</td>\n",
       "      <td>NaN</td>\n",
       "      <td>Central Office</td>\n",
       "      <td>Education Queensland</td>\n",
       "      <td>Permanent Full-time</td>\n",
       "      <td>...</td>\n",
       "      <td>N</td>\n",
       "      <td>N</td>\n",
       "      <td>N</td>\n",
       "      <td>Male</td>\n",
       "      <td>61 or older</td>\n",
       "      <td>NaN</td>\n",
       "      <td>NaN</td>\n",
       "      <td>NaN</td>\n",
       "      <td>NaN</td>\n",
       "      <td>NaN</td>\n",
       "    </tr>\n",
       "    <tr>\n",
       "      <th>3</th>\n",
       "      <td>4</td>\n",
       "      <td>Resignation-Other reasons</td>\n",
       "      <td>05/2012</td>\n",
       "      <td>2005</td>\n",
       "      <td>2006</td>\n",
       "      <td>Teacher</td>\n",
       "      <td>Primary</td>\n",
       "      <td>Central Queensland</td>\n",
       "      <td>NaN</td>\n",
       "      <td>Permanent Full-time</td>\n",
       "      <td>...</td>\n",
       "      <td>A</td>\n",
       "      <td>N</td>\n",
       "      <td>A</td>\n",
       "      <td>Female</td>\n",
       "      <td>36-40</td>\n",
       "      <td>NaN</td>\n",
       "      <td>NaN</td>\n",
       "      <td>NaN</td>\n",
       "      <td>NaN</td>\n",
       "      <td>NaN</td>\n",
       "    </tr>\n",
       "    <tr>\n",
       "      <th>4</th>\n",
       "      <td>5</td>\n",
       "      <td>Age Retirement</td>\n",
       "      <td>05/2012</td>\n",
       "      <td>1970</td>\n",
       "      <td>1989</td>\n",
       "      <td>Head of Curriculum/Head of Special Education</td>\n",
       "      <td>NaN</td>\n",
       "      <td>South East</td>\n",
       "      <td>NaN</td>\n",
       "      <td>Permanent Full-time</td>\n",
       "      <td>...</td>\n",
       "      <td>N</td>\n",
       "      <td>A</td>\n",
       "      <td>M</td>\n",
       "      <td>Female</td>\n",
       "      <td>61 or older</td>\n",
       "      <td>NaN</td>\n",
       "      <td>NaN</td>\n",
       "      <td>NaN</td>\n",
       "      <td>NaN</td>\n",
       "      <td>NaN</td>\n",
       "    </tr>\n",
       "  </tbody>\n",
       "</table>\n",
       "<p>5 rows × 56 columns</p>\n",
       "</div>"
      ],
      "text/plain": [
       "   ID                    SeparationType Cease Date DETE Start Date  \\\n",
       "0   1             Ill Health Retirement    08/2012            1984   \n",
       "1   2  Voluntary Early Retirement (VER)    08/2012      Not Stated   \n",
       "2   3  Voluntary Early Retirement (VER)    05/2012            2011   \n",
       "3   4         Resignation-Other reasons    05/2012            2005   \n",
       "4   5                    Age Retirement    05/2012            1970   \n",
       "\n",
       "  Role Start Date                                      Position  \\\n",
       "0            2004                                Public Servant   \n",
       "1      Not Stated                                Public Servant   \n",
       "2            2011                               Schools Officer   \n",
       "3            2006                                       Teacher   \n",
       "4            1989  Head of Curriculum/Head of Special Education   \n",
       "\n",
       "  Classification              Region                      Business Unit  \\\n",
       "0        A01-A04      Central Office  Corporate Strategy and Peformance   \n",
       "1        AO5-AO7      Central Office  Corporate Strategy and Peformance   \n",
       "2            NaN      Central Office               Education Queensland   \n",
       "3        Primary  Central Queensland                                NaN   \n",
       "4            NaN          South East                                NaN   \n",
       "\n",
       "     Employment Status  ...   Kept informed  Wellness programs  \\\n",
       "0  Permanent Full-time  ...               N                  N   \n",
       "1  Permanent Full-time  ...               N                  N   \n",
       "2  Permanent Full-time  ...               N                  N   \n",
       "3  Permanent Full-time  ...               A                  N   \n",
       "4  Permanent Full-time  ...               N                  A   \n",
       "\n",
       "   Health & Safety  Gender          Age  Aboriginal  Torres Strait  South Sea  \\\n",
       "0                N    Male        56-60         NaN            NaN        NaN   \n",
       "1                N    Male        56-60         NaN            NaN        NaN   \n",
       "2                N    Male  61 or older         NaN            NaN        NaN   \n",
       "3                A  Female        36-40         NaN            NaN        NaN   \n",
       "4                M  Female  61 or older         NaN            NaN        NaN   \n",
       "\n",
       "   Disability  NESB  \n",
       "0         NaN   Yes  \n",
       "1         NaN   NaN  \n",
       "2         NaN   NaN  \n",
       "3         NaN   NaN  \n",
       "4         NaN   NaN  \n",
       "\n",
       "[5 rows x 56 columns]"
      ]
     },
     "execution_count": 3,
     "metadata": {},
     "output_type": "execute_result"
    }
   ],
   "source": [
    "dete_survey.head()"
   ]
  },
  {
   "cell_type": "code",
   "execution_count": 4,
   "metadata": {},
   "outputs": [],
   "source": [
    "tafe_survey=pd.read_csv(\"tafe_survey.csv\")"
   ]
  },
  {
   "cell_type": "code",
   "execution_count": 5,
   "metadata": {},
   "outputs": [
    {
     "data": {
      "text/html": [
       "<div>\n",
       "<style scoped>\n",
       "    .dataframe tbody tr th:only-of-type {\n",
       "        vertical-align: middle;\n",
       "    }\n",
       "\n",
       "    .dataframe tbody tr th {\n",
       "        vertical-align: top;\n",
       "    }\n",
       "\n",
       "    .dataframe thead th {\n",
       "        text-align: right;\n",
       "    }\n",
       "</style>\n",
       "<table border=\"1\" class=\"dataframe\">\n",
       "  <thead>\n",
       "    <tr style=\"text-align: right;\">\n",
       "      <th></th>\n",
       "      <th>Record ID</th>\n",
       "      <th>Institute</th>\n",
       "      <th>WorkArea</th>\n",
       "      <th>CESSATION YEAR</th>\n",
       "      <th>Reason for ceasing employment</th>\n",
       "      <th>Contributing Factors. Career Move - Public Sector</th>\n",
       "      <th>Contributing Factors. Career Move - Private Sector</th>\n",
       "      <th>Contributing Factors. Career Move - Self-employment</th>\n",
       "      <th>Contributing Factors. Ill Health</th>\n",
       "      <th>Contributing Factors. Maternity/Family</th>\n",
       "      <th>...</th>\n",
       "      <th>Workplace. Topic:Does your workplace promote a work culture free from all forms of unlawful discrimination?</th>\n",
       "      <th>Workplace. Topic:Does your workplace promote and practice the principles of employment equity?</th>\n",
       "      <th>Workplace. Topic:Does your workplace value the diversity of its employees?</th>\n",
       "      <th>Workplace. Topic:Would you recommend the Institute as an employer to others?</th>\n",
       "      <th>Gender. What is your Gender?</th>\n",
       "      <th>CurrentAge. Current Age</th>\n",
       "      <th>Employment Type. Employment Type</th>\n",
       "      <th>Classification. Classification</th>\n",
       "      <th>LengthofServiceOverall. Overall Length of Service at Institute (in years)</th>\n",
       "      <th>LengthofServiceCurrent. Length of Service at current workplace (in years)</th>\n",
       "    </tr>\n",
       "  </thead>\n",
       "  <tbody>\n",
       "    <tr>\n",
       "      <th>0</th>\n",
       "      <td>6.341330e+17</td>\n",
       "      <td>Southern Queensland Institute of TAFE</td>\n",
       "      <td>Non-Delivery (corporate)</td>\n",
       "      <td>2010.0</td>\n",
       "      <td>Contract Expired</td>\n",
       "      <td>NaN</td>\n",
       "      <td>NaN</td>\n",
       "      <td>NaN</td>\n",
       "      <td>NaN</td>\n",
       "      <td>NaN</td>\n",
       "      <td>...</td>\n",
       "      <td>Yes</td>\n",
       "      <td>Yes</td>\n",
       "      <td>Yes</td>\n",
       "      <td>Yes</td>\n",
       "      <td>Female</td>\n",
       "      <td>26  30</td>\n",
       "      <td>Temporary Full-time</td>\n",
       "      <td>Administration (AO)</td>\n",
       "      <td>1-2</td>\n",
       "      <td>1-2</td>\n",
       "    </tr>\n",
       "    <tr>\n",
       "      <th>1</th>\n",
       "      <td>6.341337e+17</td>\n",
       "      <td>Mount Isa Institute of TAFE</td>\n",
       "      <td>Non-Delivery (corporate)</td>\n",
       "      <td>2010.0</td>\n",
       "      <td>Retirement</td>\n",
       "      <td>-</td>\n",
       "      <td>-</td>\n",
       "      <td>-</td>\n",
       "      <td>-</td>\n",
       "      <td>-</td>\n",
       "      <td>...</td>\n",
       "      <td>Yes</td>\n",
       "      <td>Yes</td>\n",
       "      <td>Yes</td>\n",
       "      <td>Yes</td>\n",
       "      <td>NaN</td>\n",
       "      <td>NaN</td>\n",
       "      <td>NaN</td>\n",
       "      <td>NaN</td>\n",
       "      <td>NaN</td>\n",
       "      <td>NaN</td>\n",
       "    </tr>\n",
       "    <tr>\n",
       "      <th>2</th>\n",
       "      <td>6.341388e+17</td>\n",
       "      <td>Mount Isa Institute of TAFE</td>\n",
       "      <td>Delivery (teaching)</td>\n",
       "      <td>2010.0</td>\n",
       "      <td>Retirement</td>\n",
       "      <td>-</td>\n",
       "      <td>-</td>\n",
       "      <td>-</td>\n",
       "      <td>-</td>\n",
       "      <td>-</td>\n",
       "      <td>...</td>\n",
       "      <td>Yes</td>\n",
       "      <td>Yes</td>\n",
       "      <td>Yes</td>\n",
       "      <td>Yes</td>\n",
       "      <td>NaN</td>\n",
       "      <td>NaN</td>\n",
       "      <td>NaN</td>\n",
       "      <td>NaN</td>\n",
       "      <td>NaN</td>\n",
       "      <td>NaN</td>\n",
       "    </tr>\n",
       "    <tr>\n",
       "      <th>3</th>\n",
       "      <td>6.341399e+17</td>\n",
       "      <td>Mount Isa Institute of TAFE</td>\n",
       "      <td>Non-Delivery (corporate)</td>\n",
       "      <td>2010.0</td>\n",
       "      <td>Resignation</td>\n",
       "      <td>-</td>\n",
       "      <td>-</td>\n",
       "      <td>-</td>\n",
       "      <td>-</td>\n",
       "      <td>-</td>\n",
       "      <td>...</td>\n",
       "      <td>Yes</td>\n",
       "      <td>Yes</td>\n",
       "      <td>Yes</td>\n",
       "      <td>Yes</td>\n",
       "      <td>NaN</td>\n",
       "      <td>NaN</td>\n",
       "      <td>NaN</td>\n",
       "      <td>NaN</td>\n",
       "      <td>NaN</td>\n",
       "      <td>NaN</td>\n",
       "    </tr>\n",
       "    <tr>\n",
       "      <th>4</th>\n",
       "      <td>6.341466e+17</td>\n",
       "      <td>Southern Queensland Institute of TAFE</td>\n",
       "      <td>Delivery (teaching)</td>\n",
       "      <td>2010.0</td>\n",
       "      <td>Resignation</td>\n",
       "      <td>-</td>\n",
       "      <td>Career Move - Private Sector</td>\n",
       "      <td>-</td>\n",
       "      <td>-</td>\n",
       "      <td>-</td>\n",
       "      <td>...</td>\n",
       "      <td>Yes</td>\n",
       "      <td>Yes</td>\n",
       "      <td>Yes</td>\n",
       "      <td>Yes</td>\n",
       "      <td>Male</td>\n",
       "      <td>41  45</td>\n",
       "      <td>Permanent Full-time</td>\n",
       "      <td>Teacher (including LVT)</td>\n",
       "      <td>3-4</td>\n",
       "      <td>3-4</td>\n",
       "    </tr>\n",
       "  </tbody>\n",
       "</table>\n",
       "<p>5 rows × 72 columns</p>\n",
       "</div>"
      ],
      "text/plain": [
       "      Record ID                              Institute  \\\n",
       "0  6.341330e+17  Southern Queensland Institute of TAFE   \n",
       "1  6.341337e+17            Mount Isa Institute of TAFE   \n",
       "2  6.341388e+17            Mount Isa Institute of TAFE   \n",
       "3  6.341399e+17            Mount Isa Institute of TAFE   \n",
       "4  6.341466e+17  Southern Queensland Institute of TAFE   \n",
       "\n",
       "                   WorkArea  CESSATION YEAR Reason for ceasing employment  \\\n",
       "0  Non-Delivery (corporate)          2010.0              Contract Expired   \n",
       "1  Non-Delivery (corporate)          2010.0                    Retirement   \n",
       "2       Delivery (teaching)          2010.0                    Retirement   \n",
       "3  Non-Delivery (corporate)          2010.0                   Resignation   \n",
       "4       Delivery (teaching)          2010.0                   Resignation   \n",
       "\n",
       "  Contributing Factors. Career Move - Public Sector   \\\n",
       "0                                                NaN   \n",
       "1                                                  -   \n",
       "2                                                  -   \n",
       "3                                                  -   \n",
       "4                                                  -   \n",
       "\n",
       "  Contributing Factors. Career Move - Private Sector   \\\n",
       "0                                                NaN    \n",
       "1                                                  -    \n",
       "2                                                  -    \n",
       "3                                                  -    \n",
       "4                       Career Move - Private Sector    \n",
       "\n",
       "  Contributing Factors. Career Move - Self-employment  \\\n",
       "0                                                NaN    \n",
       "1                                                  -    \n",
       "2                                                  -    \n",
       "3                                                  -    \n",
       "4                                                  -    \n",
       "\n",
       "  Contributing Factors. Ill Health Contributing Factors. Maternity/Family  \\\n",
       "0                              NaN                                    NaN   \n",
       "1                                -                                      -   \n",
       "2                                -                                      -   \n",
       "3                                -                                      -   \n",
       "4                                -                                      -   \n",
       "\n",
       "                                     ...                                     \\\n",
       "0                                    ...                                      \n",
       "1                                    ...                                      \n",
       "2                                    ...                                      \n",
       "3                                    ...                                      \n",
       "4                                    ...                                      \n",
       "\n",
       "  Workplace. Topic:Does your workplace promote a work culture free from all forms of unlawful discrimination?  \\\n",
       "0                                                Yes                                                            \n",
       "1                                                Yes                                                            \n",
       "2                                                Yes                                                            \n",
       "3                                                Yes                                                            \n",
       "4                                                Yes                                                            \n",
       "\n",
       "  Workplace. Topic:Does your workplace promote and practice the principles of employment equity?  \\\n",
       "0                                                Yes                                               \n",
       "1                                                Yes                                               \n",
       "2                                                Yes                                               \n",
       "3                                                Yes                                               \n",
       "4                                                Yes                                               \n",
       "\n",
       "  Workplace. Topic:Does your workplace value the diversity of its employees?  \\\n",
       "0                                                Yes                           \n",
       "1                                                Yes                           \n",
       "2                                                Yes                           \n",
       "3                                                Yes                           \n",
       "4                                                Yes                           \n",
       "\n",
       "  Workplace. Topic:Would you recommend the Institute as an employer to others?  \\\n",
       "0                                                Yes                             \n",
       "1                                                Yes                             \n",
       "2                                                Yes                             \n",
       "3                                                Yes                             \n",
       "4                                                Yes                             \n",
       "\n",
       "  Gender. What is your Gender? CurrentAge. Current Age  \\\n",
       "0                       Female                  26  30   \n",
       "1                          NaN                     NaN   \n",
       "2                          NaN                     NaN   \n",
       "3                          NaN                     NaN   \n",
       "4                         Male                  41  45   \n",
       "\n",
       "  Employment Type. Employment Type Classification. Classification  \\\n",
       "0              Temporary Full-time            Administration (AO)   \n",
       "1                              NaN                            NaN   \n",
       "2                              NaN                            NaN   \n",
       "3                              NaN                            NaN   \n",
       "4              Permanent Full-time        Teacher (including LVT)   \n",
       "\n",
       "  LengthofServiceOverall. Overall Length of Service at Institute (in years)  \\\n",
       "0                                                1-2                          \n",
       "1                                                NaN                          \n",
       "2                                                NaN                          \n",
       "3                                                NaN                          \n",
       "4                                                3-4                          \n",
       "\n",
       "  LengthofServiceCurrent. Length of Service at current workplace (in years)  \n",
       "0                                                1-2                         \n",
       "1                                                NaN                         \n",
       "2                                                NaN                         \n",
       "3                                                NaN                         \n",
       "4                                                3-4                         \n",
       "\n",
       "[5 rows x 72 columns]"
      ]
     },
     "execution_count": 5,
     "metadata": {},
     "output_type": "execute_result"
    }
   ],
   "source": [
    "tafe_survey.head()"
   ]
  },
  {
   "cell_type": "code",
   "execution_count": 6,
   "metadata": {},
   "outputs": [
    {
     "name": "stdout",
     "output_type": "stream",
     "text": [
      "<class 'pandas.core.frame.DataFrame'>\n",
      "RangeIndex: 822 entries, 0 to 821\n",
      "Data columns (total 56 columns):\n",
      "ID                                     822 non-null int64\n",
      "SeparationType                         822 non-null object\n",
      "Cease Date                             822 non-null object\n",
      "DETE Start Date                        822 non-null object\n",
      "Role Start Date                        822 non-null object\n",
      "Position                               817 non-null object\n",
      "Classification                         455 non-null object\n",
      "Region                                 822 non-null object\n",
      "Business Unit                          126 non-null object\n",
      "Employment Status                      817 non-null object\n",
      "Career move to public sector           822 non-null bool\n",
      "Career move to private sector          822 non-null bool\n",
      "Interpersonal conflicts                822 non-null bool\n",
      "Job dissatisfaction                    822 non-null bool\n",
      "Dissatisfaction with the department    822 non-null bool\n",
      "Physical work environment              822 non-null bool\n",
      "Lack of recognition                    822 non-null bool\n",
      "Lack of job security                   822 non-null bool\n",
      "Work location                          822 non-null bool\n",
      "Employment conditions                  822 non-null bool\n",
      "Maternity/family                       822 non-null bool\n",
      "Relocation                             822 non-null bool\n",
      "Study/Travel                           822 non-null bool\n",
      "Ill Health                             822 non-null bool\n",
      "Traumatic incident                     822 non-null bool\n",
      "Work life balance                      822 non-null bool\n",
      "Workload                               822 non-null bool\n",
      "None of the above                      822 non-null bool\n",
      "Professional Development               808 non-null object\n",
      "Opportunities for promotion            735 non-null object\n",
      "Staff morale                           816 non-null object\n",
      "Workplace issue                        788 non-null object\n",
      "Physical environment                   817 non-null object\n",
      "Worklife balance                       815 non-null object\n",
      "Stress and pressure support            810 non-null object\n",
      "Performance of supervisor              813 non-null object\n",
      "Peer support                           812 non-null object\n",
      "Initiative                             813 non-null object\n",
      "Skills                                 811 non-null object\n",
      "Coach                                  767 non-null object\n",
      "Career Aspirations                     746 non-null object\n",
      "Feedback                               792 non-null object\n",
      "Further PD                             768 non-null object\n",
      "Communication                          814 non-null object\n",
      "My say                                 812 non-null object\n",
      "Information                            816 non-null object\n",
      "Kept informed                          813 non-null object\n",
      "Wellness programs                      766 non-null object\n",
      "Health & Safety                        793 non-null object\n",
      "Gender                                 798 non-null object\n",
      "Age                                    811 non-null object\n",
      "Aboriginal                             16 non-null object\n",
      "Torres Strait                          3 non-null object\n",
      "South Sea                              7 non-null object\n",
      "Disability                             23 non-null object\n",
      "NESB                                   32 non-null object\n",
      "dtypes: bool(18), int64(1), object(37)\n",
      "memory usage: 258.6+ KB\n"
     ]
    }
   ],
   "source": [
    "dete_survey.info()"
   ]
  },
  {
   "cell_type": "code",
   "execution_count": 7,
   "metadata": {},
   "outputs": [
    {
     "name": "stdout",
     "output_type": "stream",
     "text": [
      "<class 'pandas.core.frame.DataFrame'>\n",
      "RangeIndex: 702 entries, 0 to 701\n",
      "Data columns (total 72 columns):\n",
      "Record ID                                                                                                                                                        702 non-null float64\n",
      "Institute                                                                                                                                                        702 non-null object\n",
      "WorkArea                                                                                                                                                         702 non-null object\n",
      "CESSATION YEAR                                                                                                                                                   695 non-null float64\n",
      "Reason for ceasing employment                                                                                                                                    701 non-null object\n",
      "Contributing Factors. Career Move - Public Sector                                                                                                                437 non-null object\n",
      "Contributing Factors. Career Move - Private Sector                                                                                                               437 non-null object\n",
      "Contributing Factors. Career Move - Self-employment                                                                                                              437 non-null object\n",
      "Contributing Factors. Ill Health                                                                                                                                 437 non-null object\n",
      "Contributing Factors. Maternity/Family                                                                                                                           437 non-null object\n",
      "Contributing Factors. Dissatisfaction                                                                                                                            437 non-null object\n",
      "Contributing Factors. Job Dissatisfaction                                                                                                                        437 non-null object\n",
      "Contributing Factors. Interpersonal Conflict                                                                                                                     437 non-null object\n",
      "Contributing Factors. Study                                                                                                                                      437 non-null object\n",
      "Contributing Factors. Travel                                                                                                                                     437 non-null object\n",
      "Contributing Factors. Other                                                                                                                                      437 non-null object\n",
      "Contributing Factors. NONE                                                                                                                                       437 non-null object\n",
      "Main Factor. Which of these was the main factor for leaving?                                                                                                     113 non-null object\n",
      "InstituteViews. Topic:1. I feel the senior leadership had a clear vision and direction                                                                           608 non-null object\n",
      "InstituteViews. Topic:2. I was given access to skills training to help me do my job better                                                                       613 non-null object\n",
      "InstituteViews. Topic:3. I was given adequate opportunities for personal development                                                                             610 non-null object\n",
      "InstituteViews. Topic:4. I was given adequate opportunities for promotion within %Institute]Q25LBL%                                                              608 non-null object\n",
      "InstituteViews. Topic:5. I felt the salary for the job was right for the responsibilities I had                                                                  615 non-null object\n",
      "InstituteViews. Topic:6. The organisation recognised when staff did good work                                                                                    607 non-null object\n",
      "InstituteViews. Topic:7. Management was generally supportive of me                                                                                               614 non-null object\n",
      "InstituteViews. Topic:8. Management was generally supportive of my team                                                                                          608 non-null object\n",
      "InstituteViews. Topic:9. I was kept informed of the changes in the organisation which would affect me                                                            610 non-null object\n",
      "InstituteViews. Topic:10. Staff morale was positive within the Institute                                                                                         602 non-null object\n",
      "InstituteViews. Topic:11. If I had a workplace issue it was dealt with quickly                                                                                   601 non-null object\n",
      "InstituteViews. Topic:12. If I had a workplace issue it was dealt with efficiently                                                                               597 non-null object\n",
      "InstituteViews. Topic:13. If I had a workplace issue it was dealt with discreetly                                                                                601 non-null object\n",
      "WorkUnitViews. Topic:14. I was satisfied with the quality of the management and supervision within my work unit                                                  609 non-null object\n",
      "WorkUnitViews. Topic:15. I worked well with my colleagues                                                                                                        605 non-null object\n",
      "WorkUnitViews. Topic:16. My job was challenging and interesting                                                                                                  607 non-null object\n",
      "WorkUnitViews. Topic:17. I was encouraged to use my initiative in the course of my work                                                                          610 non-null object\n",
      "WorkUnitViews. Topic:18. I had sufficient contact with other people in my job                                                                                    613 non-null object\n",
      "WorkUnitViews. Topic:19. I was given adequate support and co-operation by my peers to enable me to do my job                                                     609 non-null object\n",
      "WorkUnitViews. Topic:20. I was able to use the full range of my skills in my job                                                                                 609 non-null object\n",
      "WorkUnitViews. Topic:21. I was able to use the full range of my abilities in my job. ; Category:Level of Agreement; Question:YOUR VIEWS ABOUT YOUR WORK UNIT]    608 non-null object\n",
      "WorkUnitViews. Topic:22. I was able to use the full range of my knowledge in my job                                                                              608 non-null object\n",
      "WorkUnitViews. Topic:23. My job provided sufficient variety                                                                                                      611 non-null object\n",
      "WorkUnitViews. Topic:24. I was able to cope with the level of stress and pressure in my job                                                                      610 non-null object\n",
      "WorkUnitViews. Topic:25. My job allowed me to balance the demands of work and family to my satisfaction                                                          611 non-null object\n",
      "WorkUnitViews. Topic:26. My supervisor gave me adequate personal recognition and feedback on my performance                                                      606 non-null object\n",
      "WorkUnitViews. Topic:27. My working environment was satisfactory e.g. sufficient space, good lighting, suitable seating and working area                         610 non-null object\n",
      "WorkUnitViews. Topic:28. I was given the opportunity to mentor and coach others in order for me to pass on my skills and knowledge prior to my cessation date    609 non-null object\n",
      "WorkUnitViews. Topic:29. There was adequate communication between staff in my unit                                                                               603 non-null object\n",
      "WorkUnitViews. Topic:30. Staff morale was positive within my work unit                                                                                           606 non-null object\n",
      "Induction. Did you undertake Workplace Induction?                                                                                                                619 non-null object\n",
      "InductionInfo. Topic:Did you undertake a Corporate Induction?                                                                                                    432 non-null object\n",
      "InductionInfo. Topic:Did you undertake a Institute Induction?                                                                                                    483 non-null object\n",
      "InductionInfo. Topic: Did you undertake Team Induction?                                                                                                          440 non-null object\n",
      "InductionInfo. Face to Face Topic:Did you undertake a Corporate Induction; Category:How it was conducted?                                                        555 non-null object\n",
      "InductionInfo. On-line Topic:Did you undertake a Corporate Induction; Category:How it was conducted?                                                             555 non-null object\n",
      "InductionInfo. Induction Manual Topic:Did you undertake a Corporate Induction?                                                                                   555 non-null object\n",
      "InductionInfo. Face to Face Topic:Did you undertake a Institute Induction?                                                                                       530 non-null object\n",
      "InductionInfo. On-line Topic:Did you undertake a Institute Induction?                                                                                            555 non-null object\n",
      "InductionInfo. Induction Manual Topic:Did you undertake a Institute Induction?                                                                                   553 non-null object\n",
      "InductionInfo. Face to Face Topic: Did you undertake Team Induction; Category?                                                                                   555 non-null object\n",
      "InductionInfo. On-line Topic: Did you undertake Team Induction?process you undertook and how it was conducted.]                                                  555 non-null object\n",
      "InductionInfo. Induction Manual Topic: Did you undertake Team Induction?                                                                                         555 non-null object\n",
      "Workplace. Topic:Did you and your Manager develop a Performance and Professional Development Plan (PPDP)?                                                        608 non-null object\n",
      "Workplace. Topic:Does your workplace promote a work culture free from all forms of unlawful discrimination?                                                      594 non-null object\n",
      "Workplace. Topic:Does your workplace promote and practice the principles of employment equity?                                                                   587 non-null object\n",
      "Workplace. Topic:Does your workplace value the diversity of its employees?                                                                                       586 non-null object\n",
      "Workplace. Topic:Would you recommend the Institute as an employer to others?                                                                                     581 non-null object\n",
      "Gender. What is your Gender?                                                                                                                                     596 non-null object\n",
      "CurrentAge. Current Age                                                                                                                                          596 non-null object\n",
      "Employment Type. Employment Type                                                                                                                                 596 non-null object\n",
      "Classification. Classification                                                                                                                                   596 non-null object\n",
      "LengthofServiceOverall. Overall Length of Service at Institute (in years)                                                                                        596 non-null object\n",
      "LengthofServiceCurrent. Length of Service at current workplace (in years)                                                                                        596 non-null object\n",
      "dtypes: float64(2), object(70)\n",
      "memory usage: 395.0+ KB\n"
     ]
    }
   ],
   "source": [
    "tafe_survey.info()"
   ]
  },
  {
   "cell_type": "code",
   "execution_count": 8,
   "metadata": {},
   "outputs": [
    {
     "data": {
      "text/plain": [
       "Index(['ID', 'SeparationType', 'Cease Date', 'DETE Start Date',\n",
       "       'Role Start Date', 'Position', 'Classification', 'Region',\n",
       "       'Business Unit', 'Employment Status', 'Career move to public sector',\n",
       "       'Career move to private sector', 'Interpersonal conflicts',\n",
       "       'Job dissatisfaction', 'Dissatisfaction with the department',\n",
       "       'Physical work environment', 'Lack of recognition',\n",
       "       'Lack of job security', 'Work location', 'Employment conditions',\n",
       "       'Maternity/family', 'Relocation', 'Study/Travel', 'Ill Health',\n",
       "       'Traumatic incident', 'Work life balance', 'Workload',\n",
       "       'None of the above', 'Professional Development',\n",
       "       'Opportunities for promotion', 'Staff morale', 'Workplace issue',\n",
       "       'Physical environment', 'Worklife balance',\n",
       "       'Stress and pressure support', 'Performance of supervisor',\n",
       "       'Peer support', 'Initiative', 'Skills', 'Coach', 'Career Aspirations',\n",
       "       'Feedback', 'Further PD', 'Communication', 'My say', 'Information',\n",
       "       'Kept informed', 'Wellness programs', 'Health & Safety', 'Gender',\n",
       "       'Age', 'Aboriginal', 'Torres Strait', 'South Sea', 'Disability',\n",
       "       'NESB'],\n",
       "      dtype='object')"
      ]
     },
     "execution_count": 8,
     "metadata": {},
     "output_type": "execute_result"
    }
   ],
   "source": [
    "dete_survey.columns"
   ]
  },
  {
   "cell_type": "code",
   "execution_count": 9,
   "metadata": {},
   "outputs": [
    {
     "data": {
      "text/plain": [
       "Age Retirement                          285\n",
       "Resignation-Other reasons               150\n",
       "Resignation-Other employer               91\n",
       "Resignation-Move overseas/interstate     70\n",
       "Voluntary Early Retirement (VER)         67\n",
       "Ill Health Retirement                    61\n",
       "Other                                    49\n",
       "Contract Expired                         34\n",
       "Termination                              15\n",
       "Name: SeparationType, dtype: int64"
      ]
     },
     "execution_count": 9,
     "metadata": {},
     "output_type": "execute_result"
    }
   ],
   "source": [
    "dete_survey[\"SeparationType\"].value_counts()"
   ]
  },
  {
   "cell_type": "code",
   "execution_count": 10,
   "metadata": {},
   "outputs": [
    {
     "data": {
      "text/plain": [
       "2012          344\n",
       "2013          200\n",
       "01/2014        43\n",
       "12/2013        40\n",
       "09/2013        34\n",
       "Not Stated     34\n",
       "06/2013        27\n",
       "07/2013        22\n",
       "10/2013        20\n",
       "11/2013        16\n",
       "08/2013        12\n",
       "05/2013         7\n",
       "05/2012         6\n",
       "08/2012         2\n",
       "07/2014         2\n",
       "02/2014         2\n",
       "04/2013         2\n",
       "04/2014         2\n",
       "2014            1\n",
       "09/2014         1\n",
       "11/2012         1\n",
       "09/2010         1\n",
       "07/2012         1\n",
       "07/2006         1\n",
       "2010            1\n",
       "Name: Cease Date, dtype: int64"
      ]
     },
     "execution_count": 10,
     "metadata": {},
     "output_type": "execute_result"
    }
   ],
   "source": [
    "dete_survey[\"Cease Date\"].value_counts()"
   ]
  },
  {
   "cell_type": "code",
   "execution_count": 11,
   "metadata": {},
   "outputs": [
    {
     "data": {
      "text/plain": [
       "Not Stated    73\n",
       "2011          40\n",
       "2007          34\n",
       "2008          31\n",
       "2012          27\n",
       "Name: DETE Start Date, dtype: int64"
      ]
     },
     "execution_count": 11,
     "metadata": {},
     "output_type": "execute_result"
    }
   ],
   "source": [
    "dete_survey[\"DETE Start Date\"].value_counts().head()"
   ]
  },
  {
   "cell_type": "code",
   "execution_count": 12,
   "metadata": {},
   "outputs": [
    {
     "data": {
      "text/plain": [
       "Not Stated    98\n",
       "2012          65\n",
       "2011          57\n",
       "2010          46\n",
       "2008          45\n",
       "Name: Role Start Date, dtype: int64"
      ]
     },
     "execution_count": 12,
     "metadata": {},
     "output_type": "execute_result"
    }
   ],
   "source": [
    "dete_survey[\"Role Start Date\"].value_counts().head()"
   ]
  },
  {
   "cell_type": "code",
   "execution_count": 13,
   "metadata": {},
   "outputs": [
    {
     "data": {
      "text/plain": [
       "Teacher                                         324\n",
       "Teacher Aide                                    137\n",
       "Public Servant                                  126\n",
       "Cleaner                                          97\n",
       "Head of Curriculum/Head of Special Education     38\n",
       "Name: Position, dtype: int64"
      ]
     },
     "execution_count": 13,
     "metadata": {},
     "output_type": "execute_result"
    }
   ],
   "source": [
    "dete_survey[\"Position\"].value_counts().head()"
   ]
  },
  {
   "cell_type": "code",
   "execution_count": 14,
   "metadata": {},
   "outputs": [
    {
     "data": {
      "text/plain": [
       "Primary              161\n",
       "Secondary            124\n",
       "A01-A04               66\n",
       "AO5-AO7               46\n",
       "Special Education     33\n",
       "Name: Classification, dtype: int64"
      ]
     },
     "execution_count": 14,
     "metadata": {},
     "output_type": "execute_result"
    }
   ],
   "source": [
    "dete_survey[\"Classification\"].value_counts().head()"
   ]
  },
  {
   "cell_type": "code",
   "execution_count": 15,
   "metadata": {},
   "outputs": [
    {
     "data": {
      "text/plain": [
       "Metropolitan                135\n",
       "Central Office              130\n",
       "South East                  108\n",
       "Not Stated                  105\n",
       "Darling Downs South West     95\n",
       "Central Queensland           84\n",
       "North Coast                  75\n",
       "North Queensland             53\n",
       "Far North Queensland         37\n",
       "Name: Region, dtype: int64"
      ]
     },
     "execution_count": 15,
     "metadata": {},
     "output_type": "execute_result"
    }
   ],
   "source": [
    "dete_survey[\"Region\"].value_counts()"
   ]
  },
  {
   "cell_type": "code",
   "execution_count": 16,
   "metadata": {},
   "outputs": [
    {
     "data": {
      "text/plain": [
       "Education Queensland                          54\n",
       "Information and Technologies                  26\n",
       "Training and Tertiary Education Queensland    12\n",
       "Other                                         11\n",
       "Human Resources                                6\n",
       "Corporate Strategy and Peformance              5\n",
       "Early Childhood Education and Care             3\n",
       "Infrastructure                                 2\n",
       "Policy, Research, Legislation                  2\n",
       "Calliope State School                          1\n",
       "Indigenous Education and Training Futures      1\n",
       "Pacific Pines SHS                              1\n",
       "Corporate Procurement                          1\n",
       "Finance                                        1\n",
       "Name: Business Unit, dtype: int64"
      ]
     },
     "execution_count": 16,
     "metadata": {},
     "output_type": "execute_result"
    }
   ],
   "source": [
    "dete_survey[\"Business Unit\"].value_counts()"
   ]
  },
  {
   "cell_type": "code",
   "execution_count": 17,
   "metadata": {},
   "outputs": [
    {
     "data": {
      "text/plain": [
       "Permanent Full-time    434\n",
       "Permanent Part-time    308\n",
       "Temporary Full-time     41\n",
       "Temporary Part-time     24\n",
       "Casual                  10\n",
       "Name: Employment Status, dtype: int64"
      ]
     },
     "execution_count": 17,
     "metadata": {},
     "output_type": "execute_result"
    }
   ],
   "source": [
    "dete_survey[\"Employment Status\"].value_counts()"
   ]
  },
  {
   "cell_type": "code",
   "execution_count": 18,
   "metadata": {},
   "outputs": [
    {
     "data": {
      "text/plain": [
       "False    800\n",
       "True      22\n",
       "Name: Career move to public sector, dtype: int64"
      ]
     },
     "execution_count": 18,
     "metadata": {},
     "output_type": "execute_result"
    }
   ],
   "source": [
    "\n",
    "dete_survey[\"Career move to public sector\"].value_counts()"
   ]
  },
  {
   "cell_type": "code",
   "execution_count": 19,
   "metadata": {},
   "outputs": [
    {
     "data": {
      "text/plain": [
       "Index(['ID', 'SeparationType', 'Cease Date', 'DETE Start Date',\n",
       "       'Role Start Date', 'Position', 'Classification', 'Region',\n",
       "       'Business Unit', 'Employment Status', 'Career move to public sector',\n",
       "       'Career move to private sector', 'Interpersonal conflicts',\n",
       "       'Job dissatisfaction', 'Dissatisfaction with the department',\n",
       "       'Physical work environment', 'Lack of recognition',\n",
       "       'Lack of job security', 'Work location', 'Employment conditions',\n",
       "       'Maternity/family', 'Relocation', 'Study/Travel', 'Ill Health',\n",
       "       'Traumatic incident', 'Work life balance', 'Workload',\n",
       "       'None of the above', 'Professional Development',\n",
       "       'Opportunities for promotion', 'Staff morale', 'Workplace issue',\n",
       "       'Physical environment', 'Worklife balance',\n",
       "       'Stress and pressure support', 'Performance of supervisor',\n",
       "       'Peer support', 'Initiative', 'Skills', 'Coach', 'Career Aspirations',\n",
       "       'Feedback', 'Further PD', 'Communication', 'My say', 'Information',\n",
       "       'Kept informed', 'Wellness programs', 'Health & Safety', 'Gender',\n",
       "       'Age', 'Aboriginal', 'Torres Strait', 'South Sea', 'Disability',\n",
       "       'NESB'],\n",
       "      dtype='object')"
      ]
     },
     "execution_count": 19,
     "metadata": {},
     "output_type": "execute_result"
    }
   ],
   "source": [
    "dete_survey.columns"
   ]
  },
  {
   "cell_type": "code",
   "execution_count": 20,
   "metadata": {},
   "outputs": [
    {
     "data": {
      "text/plain": [
       "False    742\n",
       "True      80\n",
       "Name: Career move to private sector, dtype: int64"
      ]
     },
     "execution_count": 20,
     "metadata": {},
     "output_type": "execute_result"
    }
   ],
   "source": [
    "dete_survey[\"Career move to private sector\"].value_counts()"
   ]
  },
  {
   "cell_type": "code",
   "execution_count": 21,
   "metadata": {},
   "outputs": [
    {
     "data": {
      "text/plain": [
       "False    788\n",
       "True      34\n",
       "Name: Interpersonal conflicts, dtype: int64"
      ]
     },
     "execution_count": 21,
     "metadata": {},
     "output_type": "execute_result"
    }
   ],
   "source": [
    "dete_survey[\"Interpersonal conflicts\"].value_counts()"
   ]
  },
  {
   "cell_type": "code",
   "execution_count": 22,
   "metadata": {},
   "outputs": [
    {
     "data": {
      "text/plain": [
       "False    733\n",
       "True      89\n",
       "Name: Job dissatisfaction, dtype: int64"
      ]
     },
     "execution_count": 22,
     "metadata": {},
     "output_type": "execute_result"
    }
   ],
   "source": [
    "dete_survey[\"Job dissatisfaction\"].value_counts()"
   ]
  },
  {
   "cell_type": "code",
   "execution_count": 23,
   "metadata": {},
   "outputs": [
    {
     "data": {
      "text/plain": [
       "False    761\n",
       "True      61\n",
       "Name: Dissatisfaction with the department, dtype: int64"
      ]
     },
     "execution_count": 23,
     "metadata": {},
     "output_type": "execute_result"
    }
   ],
   "source": [
    "dete_survey[\"Dissatisfaction with the department\"].value_counts()"
   ]
  },
  {
   "cell_type": "code",
   "execution_count": 24,
   "metadata": {},
   "outputs": [
    {
     "data": {
      "text/plain": [
       "False    806\n",
       "True      16\n",
       "Name: Physical work environment, dtype: int64"
      ]
     },
     "execution_count": 24,
     "metadata": {},
     "output_type": "execute_result"
    }
   ],
   "source": [
    "dete_survey[\"Physical work environment\"].value_counts()"
   ]
  },
  {
   "cell_type": "code",
   "execution_count": 25,
   "metadata": {},
   "outputs": [
    {
     "data": {
      "text/plain": [
       "False    765\n",
       "True      57\n",
       "Name: Lack of recognition, dtype: int64"
      ]
     },
     "execution_count": 25,
     "metadata": {},
     "output_type": "execute_result"
    }
   ],
   "source": [
    "dete_survey[\"Lack of recognition\"].value_counts()"
   ]
  },
  {
   "cell_type": "code",
   "execution_count": 26,
   "metadata": {},
   "outputs": [
    {
     "data": {
      "text/plain": [
       "False    794\n",
       "True      28\n",
       "Name: Lack of job security, dtype: int64"
      ]
     },
     "execution_count": 26,
     "metadata": {},
     "output_type": "execute_result"
    }
   ],
   "source": [
    "dete_survey[\"Lack of job security\"].value_counts()"
   ]
  },
  {
   "cell_type": "code",
   "execution_count": 27,
   "metadata": {},
   "outputs": [
    {
     "data": {
      "text/plain": [
       "False    795\n",
       "True      27\n",
       "Name: Work location, dtype: int64"
      ]
     },
     "execution_count": 27,
     "metadata": {},
     "output_type": "execute_result"
    }
   ],
   "source": [
    "dete_survey[\"Work location\"].value_counts()"
   ]
  },
  {
   "cell_type": "code",
   "execution_count": 28,
   "metadata": {},
   "outputs": [
    {
     "data": {
      "text/plain": [
       "False    788\n",
       "True      34\n",
       "Name: Employment conditions, dtype: int64"
      ]
     },
     "execution_count": 28,
     "metadata": {},
     "output_type": "execute_result"
    }
   ],
   "source": [
    "dete_survey[\"Employment conditions\"].value_counts()"
   ]
  },
  {
   "cell_type": "raw",
   "metadata": {},
   "source": [
    "Read the dete_survey.csv CSV file into pandas again, but this time read the Not Stated values in as NaN.\n",
    "To read Not Stated in as NaN, set the na_values parameter to Not Stated in the pd.read_csv() function.\n",
    "Assign the result to the variable name dete_survey.\n",
    "Then, let's drop some columns from each dataframe that we won't use in our analysis to make the dataframes easier to work with.\n",
    "Use the DataFrame.drop() method to drop the following columns from dete_survey: dete_survey.columns[28:49]. Remember to set the axis parameter equal to 1.\n",
    "Assign the result to dete_survey_updated.\n",
    "Use the DataFrame.drop() method to drop the following columns from tafe_survey: tafe_survey.columns[17:66]. Remember to set the axis parameter equal to 1.\n",
    "Assign the result to tafe_survey_updated.\n",
    "Write a markdown cell explaining the changes you made and why."
   ]
  },
  {
   "cell_type": "code",
   "execution_count": 29,
   "metadata": {},
   "outputs": [],
   "source": [
    "dete_survey=pd.read_csv(\"dete_survey.csv\",na_values=False)"
   ]
  },
  {
   "cell_type": "code",
   "execution_count": 30,
   "metadata": {},
   "outputs": [
    {
     "data": {
      "text/html": [
       "<div>\n",
       "<style scoped>\n",
       "    .dataframe tbody tr th:only-of-type {\n",
       "        vertical-align: middle;\n",
       "    }\n",
       "\n",
       "    .dataframe tbody tr th {\n",
       "        vertical-align: top;\n",
       "    }\n",
       "\n",
       "    .dataframe thead th {\n",
       "        text-align: right;\n",
       "    }\n",
       "</style>\n",
       "<table border=\"1\" class=\"dataframe\">\n",
       "  <thead>\n",
       "    <tr style=\"text-align: right;\">\n",
       "      <th></th>\n",
       "      <th>ID</th>\n",
       "      <th>SeparationType</th>\n",
       "      <th>Cease Date</th>\n",
       "      <th>DETE Start Date</th>\n",
       "      <th>Role Start Date</th>\n",
       "      <th>Position</th>\n",
       "      <th>Classification</th>\n",
       "      <th>Region</th>\n",
       "      <th>Business Unit</th>\n",
       "      <th>Employment Status</th>\n",
       "      <th>...</th>\n",
       "      <th>Kept informed</th>\n",
       "      <th>Wellness programs</th>\n",
       "      <th>Health &amp; Safety</th>\n",
       "      <th>Gender</th>\n",
       "      <th>Age</th>\n",
       "      <th>Aboriginal</th>\n",
       "      <th>Torres Strait</th>\n",
       "      <th>South Sea</th>\n",
       "      <th>Disability</th>\n",
       "      <th>NESB</th>\n",
       "    </tr>\n",
       "  </thead>\n",
       "  <tbody>\n",
       "    <tr>\n",
       "      <th>0</th>\n",
       "      <td>1</td>\n",
       "      <td>Ill Health Retirement</td>\n",
       "      <td>08/2012</td>\n",
       "      <td>1984</td>\n",
       "      <td>2004</td>\n",
       "      <td>Public Servant</td>\n",
       "      <td>A01-A04</td>\n",
       "      <td>Central Office</td>\n",
       "      <td>Corporate Strategy and Peformance</td>\n",
       "      <td>Permanent Full-time</td>\n",
       "      <td>...</td>\n",
       "      <td>N</td>\n",
       "      <td>N</td>\n",
       "      <td>N</td>\n",
       "      <td>Male</td>\n",
       "      <td>56-60</td>\n",
       "      <td>NaN</td>\n",
       "      <td>NaN</td>\n",
       "      <td>NaN</td>\n",
       "      <td>NaN</td>\n",
       "      <td>Yes</td>\n",
       "    </tr>\n",
       "    <tr>\n",
       "      <th>1</th>\n",
       "      <td>2</td>\n",
       "      <td>Voluntary Early Retirement (VER)</td>\n",
       "      <td>08/2012</td>\n",
       "      <td>Not Stated</td>\n",
       "      <td>Not Stated</td>\n",
       "      <td>Public Servant</td>\n",
       "      <td>AO5-AO7</td>\n",
       "      <td>Central Office</td>\n",
       "      <td>Corporate Strategy and Peformance</td>\n",
       "      <td>Permanent Full-time</td>\n",
       "      <td>...</td>\n",
       "      <td>N</td>\n",
       "      <td>N</td>\n",
       "      <td>N</td>\n",
       "      <td>Male</td>\n",
       "      <td>56-60</td>\n",
       "      <td>NaN</td>\n",
       "      <td>NaN</td>\n",
       "      <td>NaN</td>\n",
       "      <td>NaN</td>\n",
       "      <td>NaN</td>\n",
       "    </tr>\n",
       "    <tr>\n",
       "      <th>2</th>\n",
       "      <td>3</td>\n",
       "      <td>Voluntary Early Retirement (VER)</td>\n",
       "      <td>05/2012</td>\n",
       "      <td>2011</td>\n",
       "      <td>2011</td>\n",
       "      <td>Schools Officer</td>\n",
       "      <td>NaN</td>\n",
       "      <td>Central Office</td>\n",
       "      <td>Education Queensland</td>\n",
       "      <td>Permanent Full-time</td>\n",
       "      <td>...</td>\n",
       "      <td>N</td>\n",
       "      <td>N</td>\n",
       "      <td>N</td>\n",
       "      <td>Male</td>\n",
       "      <td>61 or older</td>\n",
       "      <td>NaN</td>\n",
       "      <td>NaN</td>\n",
       "      <td>NaN</td>\n",
       "      <td>NaN</td>\n",
       "      <td>NaN</td>\n",
       "    </tr>\n",
       "    <tr>\n",
       "      <th>3</th>\n",
       "      <td>4</td>\n",
       "      <td>Resignation-Other reasons</td>\n",
       "      <td>05/2012</td>\n",
       "      <td>2005</td>\n",
       "      <td>2006</td>\n",
       "      <td>Teacher</td>\n",
       "      <td>Primary</td>\n",
       "      <td>Central Queensland</td>\n",
       "      <td>NaN</td>\n",
       "      <td>Permanent Full-time</td>\n",
       "      <td>...</td>\n",
       "      <td>A</td>\n",
       "      <td>N</td>\n",
       "      <td>A</td>\n",
       "      <td>Female</td>\n",
       "      <td>36-40</td>\n",
       "      <td>NaN</td>\n",
       "      <td>NaN</td>\n",
       "      <td>NaN</td>\n",
       "      <td>NaN</td>\n",
       "      <td>NaN</td>\n",
       "    </tr>\n",
       "    <tr>\n",
       "      <th>4</th>\n",
       "      <td>5</td>\n",
       "      <td>Age Retirement</td>\n",
       "      <td>05/2012</td>\n",
       "      <td>1970</td>\n",
       "      <td>1989</td>\n",
       "      <td>Head of Curriculum/Head of Special Education</td>\n",
       "      <td>NaN</td>\n",
       "      <td>South East</td>\n",
       "      <td>NaN</td>\n",
       "      <td>Permanent Full-time</td>\n",
       "      <td>...</td>\n",
       "      <td>N</td>\n",
       "      <td>A</td>\n",
       "      <td>M</td>\n",
       "      <td>Female</td>\n",
       "      <td>61 or older</td>\n",
       "      <td>NaN</td>\n",
       "      <td>NaN</td>\n",
       "      <td>NaN</td>\n",
       "      <td>NaN</td>\n",
       "      <td>NaN</td>\n",
       "    </tr>\n",
       "  </tbody>\n",
       "</table>\n",
       "<p>5 rows × 56 columns</p>\n",
       "</div>"
      ],
      "text/plain": [
       "   ID                    SeparationType Cease Date DETE Start Date  \\\n",
       "0   1             Ill Health Retirement    08/2012            1984   \n",
       "1   2  Voluntary Early Retirement (VER)    08/2012      Not Stated   \n",
       "2   3  Voluntary Early Retirement (VER)    05/2012            2011   \n",
       "3   4         Resignation-Other reasons    05/2012            2005   \n",
       "4   5                    Age Retirement    05/2012            1970   \n",
       "\n",
       "  Role Start Date                                      Position  \\\n",
       "0            2004                                Public Servant   \n",
       "1      Not Stated                                Public Servant   \n",
       "2            2011                               Schools Officer   \n",
       "3            2006                                       Teacher   \n",
       "4            1989  Head of Curriculum/Head of Special Education   \n",
       "\n",
       "  Classification              Region                      Business Unit  \\\n",
       "0        A01-A04      Central Office  Corporate Strategy and Peformance   \n",
       "1        AO5-AO7      Central Office  Corporate Strategy and Peformance   \n",
       "2            NaN      Central Office               Education Queensland   \n",
       "3        Primary  Central Queensland                                NaN   \n",
       "4            NaN          South East                                NaN   \n",
       "\n",
       "     Employment Status  ...   Kept informed  Wellness programs  \\\n",
       "0  Permanent Full-time  ...               N                  N   \n",
       "1  Permanent Full-time  ...               N                  N   \n",
       "2  Permanent Full-time  ...               N                  N   \n",
       "3  Permanent Full-time  ...               A                  N   \n",
       "4  Permanent Full-time  ...               N                  A   \n",
       "\n",
       "   Health & Safety  Gender          Age  Aboriginal  Torres Strait  South Sea  \\\n",
       "0                N    Male        56-60         NaN            NaN        NaN   \n",
       "1                N    Male        56-60         NaN            NaN        NaN   \n",
       "2                N    Male  61 or older         NaN            NaN        NaN   \n",
       "3                A  Female        36-40         NaN            NaN        NaN   \n",
       "4                M  Female  61 or older         NaN            NaN        NaN   \n",
       "\n",
       "   Disability  NESB  \n",
       "0         NaN   Yes  \n",
       "1         NaN   NaN  \n",
       "2         NaN   NaN  \n",
       "3         NaN   NaN  \n",
       "4         NaN   NaN  \n",
       "\n",
       "[5 rows x 56 columns]"
      ]
     },
     "execution_count": 30,
     "metadata": {},
     "output_type": "execute_result"
    }
   ],
   "source": [
    "dete_survey.head()"
   ]
  },
  {
   "cell_type": "code",
   "execution_count": 31,
   "metadata": {},
   "outputs": [],
   "source": [
    "a=dete_survey.columns[28:49]"
   ]
  },
  {
   "cell_type": "code",
   "execution_count": 32,
   "metadata": {},
   "outputs": [],
   "source": [
    "dete_survey_updated=dete_survey.drop(a,axis=1)"
   ]
  },
  {
   "cell_type": "code",
   "execution_count": 33,
   "metadata": {},
   "outputs": [],
   "source": [
    "b=tafe_survey.columns[17:66]"
   ]
  },
  {
   "cell_type": "code",
   "execution_count": 34,
   "metadata": {},
   "outputs": [
    {
     "data": {
      "text/plain": [
       "Index(['Main Factor. Which of these was the main factor for leaving?',\n",
       "       'InstituteViews. Topic:1. I feel the senior leadership had a clear vision and direction',\n",
       "       'InstituteViews. Topic:2. I was given access to skills training to help me do my job better',\n",
       "       'InstituteViews. Topic:3. I was given adequate opportunities for personal development',\n",
       "       'InstituteViews. Topic:4. I was given adequate opportunities for promotion within %Institute]Q25LBL%',\n",
       "       'InstituteViews. Topic:5. I felt the salary for the job was right for the responsibilities I had',\n",
       "       'InstituteViews. Topic:6. The organisation recognised when staff did good work',\n",
       "       'InstituteViews. Topic:7. Management was generally supportive of me',\n",
       "       'InstituteViews. Topic:8. Management was generally supportive of my team',\n",
       "       'InstituteViews. Topic:9. I was kept informed of the changes in the organisation which would affect me',\n",
       "       'InstituteViews. Topic:10. Staff morale was positive within the Institute',\n",
       "       'InstituteViews. Topic:11. If I had a workplace issue it was dealt with quickly',\n",
       "       'InstituteViews. Topic:12. If I had a workplace issue it was dealt with efficiently',\n",
       "       'InstituteViews. Topic:13. If I had a workplace issue it was dealt with discreetly',\n",
       "       'WorkUnitViews. Topic:14. I was satisfied with the quality of the management and supervision within my work unit',\n",
       "       'WorkUnitViews. Topic:15. I worked well with my colleagues',\n",
       "       'WorkUnitViews. Topic:16. My job was challenging and interesting',\n",
       "       'WorkUnitViews. Topic:17. I was encouraged to use my initiative in the course of my work',\n",
       "       'WorkUnitViews. Topic:18. I had sufficient contact with other people in my job',\n",
       "       'WorkUnitViews. Topic:19. I was given adequate support and co-operation by my peers to enable me to do my job',\n",
       "       'WorkUnitViews. Topic:20. I was able to use the full range of my skills in my job',\n",
       "       'WorkUnitViews. Topic:21. I was able to use the full range of my abilities in my job. ; Category:Level of Agreement; Question:YOUR VIEWS ABOUT YOUR WORK UNIT]',\n",
       "       'WorkUnitViews. Topic:22. I was able to use the full range of my knowledge in my job',\n",
       "       'WorkUnitViews. Topic:23. My job provided sufficient variety',\n",
       "       'WorkUnitViews. Topic:24. I was able to cope with the level of stress and pressure in my job',\n",
       "       'WorkUnitViews. Topic:25. My job allowed me to balance the demands of work and family to my satisfaction',\n",
       "       'WorkUnitViews. Topic:26. My supervisor gave me adequate personal recognition and feedback on my performance',\n",
       "       'WorkUnitViews. Topic:27. My working environment was satisfactory e.g. sufficient space, good lighting, suitable seating and working area',\n",
       "       'WorkUnitViews. Topic:28. I was given the opportunity to mentor and coach others in order for me to pass on my skills and knowledge prior to my cessation date',\n",
       "       'WorkUnitViews. Topic:29. There was adequate communication between staff in my unit',\n",
       "       'WorkUnitViews. Topic:30. Staff morale was positive within my work unit',\n",
       "       'Induction. Did you undertake Workplace Induction?',\n",
       "       'InductionInfo. Topic:Did you undertake a Corporate Induction?',\n",
       "       'InductionInfo. Topic:Did you undertake a Institute Induction?',\n",
       "       'InductionInfo. Topic: Did you undertake Team Induction?',\n",
       "       'InductionInfo. Face to Face Topic:Did you undertake a Corporate Induction; Category:How it was conducted?',\n",
       "       'InductionInfo. On-line Topic:Did you undertake a Corporate Induction; Category:How it was conducted?',\n",
       "       'InductionInfo. Induction Manual Topic:Did you undertake a Corporate Induction?',\n",
       "       'InductionInfo. Face to Face Topic:Did you undertake a Institute Induction?',\n",
       "       'InductionInfo. On-line Topic:Did you undertake a Institute Induction?',\n",
       "       'InductionInfo. Induction Manual Topic:Did you undertake a Institute Induction?',\n",
       "       'InductionInfo. Face to Face Topic: Did you undertake Team Induction; Category?',\n",
       "       'InductionInfo. On-line Topic: Did you undertake Team Induction?process you undertook and how it was conducted.]',\n",
       "       'InductionInfo. Induction Manual Topic: Did you undertake Team Induction?',\n",
       "       'Workplace. Topic:Did you and your Manager develop a Performance and Professional Development Plan (PPDP)?',\n",
       "       'Workplace. Topic:Does your workplace promote a work culture free from all forms of unlawful discrimination?',\n",
       "       'Workplace. Topic:Does your workplace promote and practice the principles of employment equity?',\n",
       "       'Workplace. Topic:Does your workplace value the diversity of its employees?',\n",
       "       'Workplace. Topic:Would you recommend the Institute as an employer to others?'],\n",
       "      dtype='object')"
      ]
     },
     "execution_count": 34,
     "metadata": {},
     "output_type": "execute_result"
    }
   ],
   "source": [
    "b"
   ]
  },
  {
   "cell_type": "code",
   "execution_count": 35,
   "metadata": {},
   "outputs": [],
   "source": [
    "tafe_survey_updated=tafe_survey.drop(b, axis =1)"
   ]
  },
  {
   "cell_type": "code",
   "execution_count": 36,
   "metadata": {},
   "outputs": [],
   "source": [
    "#happiness2017.columns = happiness2017.columns.str.replace('.', ' ').str.replace('\\s+', ' ').str.strip().str.upper()"
   ]
  },
  {
   "cell_type": "code",
   "execution_count": 37,
   "metadata": {},
   "outputs": [
    {
     "data": {
      "text/plain": [
       "Index(['ID', 'SeparationType', 'Cease Date', 'DETE Start Date',\n",
       "       'Role Start Date', 'Position', 'Classification', 'Region',\n",
       "       'Business Unit', 'Employment Status', 'Career move to public sector',\n",
       "       'Career move to private sector', 'Interpersonal conflicts',\n",
       "       'Job dissatisfaction', 'Dissatisfaction with the department',\n",
       "       'Physical work environment', 'Lack of recognition',\n",
       "       'Lack of job security', 'Work location', 'Employment conditions',\n",
       "       'Maternity/family', 'Relocation', 'Study/Travel', 'Ill Health',\n",
       "       'Traumatic incident', 'Work life balance', 'Workload',\n",
       "       'None of the above', 'Gender', 'Age', 'Aboriginal', 'Torres Strait',\n",
       "       'South Sea', 'Disability', 'NESB'],\n",
       "      dtype='object')"
      ]
     },
     "execution_count": 37,
     "metadata": {},
     "output_type": "execute_result"
    }
   ],
   "source": [
    "dete_survey_updated.columns"
   ]
  },
  {
   "cell_type": "code",
   "execution_count": 38,
   "metadata": {},
   "outputs": [],
   "source": [
    "dete_survey_updated.columns=dete_survey_updated.columns.str.lower().str.rstrip().str.replace(' ','_')"
   ]
  },
  {
   "cell_type": "code",
   "execution_count": 39,
   "metadata": {},
   "outputs": [
    {
     "data": {
      "text/html": [
       "<div>\n",
       "<style scoped>\n",
       "    .dataframe tbody tr th:only-of-type {\n",
       "        vertical-align: middle;\n",
       "    }\n",
       "\n",
       "    .dataframe tbody tr th {\n",
       "        vertical-align: top;\n",
       "    }\n",
       "\n",
       "    .dataframe thead th {\n",
       "        text-align: right;\n",
       "    }\n",
       "</style>\n",
       "<table border=\"1\" class=\"dataframe\">\n",
       "  <thead>\n",
       "    <tr style=\"text-align: right;\">\n",
       "      <th></th>\n",
       "      <th>id</th>\n",
       "      <th>separationtype</th>\n",
       "      <th>cease_date</th>\n",
       "      <th>dete_start_date</th>\n",
       "      <th>role_start_date</th>\n",
       "      <th>position</th>\n",
       "      <th>classification</th>\n",
       "      <th>region</th>\n",
       "      <th>business_unit</th>\n",
       "      <th>employment_status</th>\n",
       "      <th>...</th>\n",
       "      <th>work_life_balance</th>\n",
       "      <th>workload</th>\n",
       "      <th>none_of_the_above</th>\n",
       "      <th>gender</th>\n",
       "      <th>age</th>\n",
       "      <th>aboriginal</th>\n",
       "      <th>torres_strait</th>\n",
       "      <th>south_sea</th>\n",
       "      <th>disability</th>\n",
       "      <th>nesb</th>\n",
       "    </tr>\n",
       "  </thead>\n",
       "  <tbody>\n",
       "    <tr>\n",
       "      <th>0</th>\n",
       "      <td>1</td>\n",
       "      <td>Ill Health Retirement</td>\n",
       "      <td>08/2012</td>\n",
       "      <td>1984</td>\n",
       "      <td>2004</td>\n",
       "      <td>Public Servant</td>\n",
       "      <td>A01-A04</td>\n",
       "      <td>Central Office</td>\n",
       "      <td>Corporate Strategy and Peformance</td>\n",
       "      <td>Permanent Full-time</td>\n",
       "      <td>...</td>\n",
       "      <td>False</td>\n",
       "      <td>False</td>\n",
       "      <td>True</td>\n",
       "      <td>Male</td>\n",
       "      <td>56-60</td>\n",
       "      <td>NaN</td>\n",
       "      <td>NaN</td>\n",
       "      <td>NaN</td>\n",
       "      <td>NaN</td>\n",
       "      <td>Yes</td>\n",
       "    </tr>\n",
       "    <tr>\n",
       "      <th>1</th>\n",
       "      <td>2</td>\n",
       "      <td>Voluntary Early Retirement (VER)</td>\n",
       "      <td>08/2012</td>\n",
       "      <td>Not Stated</td>\n",
       "      <td>Not Stated</td>\n",
       "      <td>Public Servant</td>\n",
       "      <td>AO5-AO7</td>\n",
       "      <td>Central Office</td>\n",
       "      <td>Corporate Strategy and Peformance</td>\n",
       "      <td>Permanent Full-time</td>\n",
       "      <td>...</td>\n",
       "      <td>False</td>\n",
       "      <td>False</td>\n",
       "      <td>False</td>\n",
       "      <td>Male</td>\n",
       "      <td>56-60</td>\n",
       "      <td>NaN</td>\n",
       "      <td>NaN</td>\n",
       "      <td>NaN</td>\n",
       "      <td>NaN</td>\n",
       "      <td>NaN</td>\n",
       "    </tr>\n",
       "    <tr>\n",
       "      <th>2</th>\n",
       "      <td>3</td>\n",
       "      <td>Voluntary Early Retirement (VER)</td>\n",
       "      <td>05/2012</td>\n",
       "      <td>2011</td>\n",
       "      <td>2011</td>\n",
       "      <td>Schools Officer</td>\n",
       "      <td>NaN</td>\n",
       "      <td>Central Office</td>\n",
       "      <td>Education Queensland</td>\n",
       "      <td>Permanent Full-time</td>\n",
       "      <td>...</td>\n",
       "      <td>False</td>\n",
       "      <td>False</td>\n",
       "      <td>True</td>\n",
       "      <td>Male</td>\n",
       "      <td>61 or older</td>\n",
       "      <td>NaN</td>\n",
       "      <td>NaN</td>\n",
       "      <td>NaN</td>\n",
       "      <td>NaN</td>\n",
       "      <td>NaN</td>\n",
       "    </tr>\n",
       "    <tr>\n",
       "      <th>3</th>\n",
       "      <td>4</td>\n",
       "      <td>Resignation-Other reasons</td>\n",
       "      <td>05/2012</td>\n",
       "      <td>2005</td>\n",
       "      <td>2006</td>\n",
       "      <td>Teacher</td>\n",
       "      <td>Primary</td>\n",
       "      <td>Central Queensland</td>\n",
       "      <td>NaN</td>\n",
       "      <td>Permanent Full-time</td>\n",
       "      <td>...</td>\n",
       "      <td>False</td>\n",
       "      <td>False</td>\n",
       "      <td>False</td>\n",
       "      <td>Female</td>\n",
       "      <td>36-40</td>\n",
       "      <td>NaN</td>\n",
       "      <td>NaN</td>\n",
       "      <td>NaN</td>\n",
       "      <td>NaN</td>\n",
       "      <td>NaN</td>\n",
       "    </tr>\n",
       "    <tr>\n",
       "      <th>4</th>\n",
       "      <td>5</td>\n",
       "      <td>Age Retirement</td>\n",
       "      <td>05/2012</td>\n",
       "      <td>1970</td>\n",
       "      <td>1989</td>\n",
       "      <td>Head of Curriculum/Head of Special Education</td>\n",
       "      <td>NaN</td>\n",
       "      <td>South East</td>\n",
       "      <td>NaN</td>\n",
       "      <td>Permanent Full-time</td>\n",
       "      <td>...</td>\n",
       "      <td>True</td>\n",
       "      <td>False</td>\n",
       "      <td>False</td>\n",
       "      <td>Female</td>\n",
       "      <td>61 or older</td>\n",
       "      <td>NaN</td>\n",
       "      <td>NaN</td>\n",
       "      <td>NaN</td>\n",
       "      <td>NaN</td>\n",
       "      <td>NaN</td>\n",
       "    </tr>\n",
       "  </tbody>\n",
       "</table>\n",
       "<p>5 rows × 35 columns</p>\n",
       "</div>"
      ],
      "text/plain": [
       "   id                    separationtype cease_date dete_start_date  \\\n",
       "0   1             Ill Health Retirement    08/2012            1984   \n",
       "1   2  Voluntary Early Retirement (VER)    08/2012      Not Stated   \n",
       "2   3  Voluntary Early Retirement (VER)    05/2012            2011   \n",
       "3   4         Resignation-Other reasons    05/2012            2005   \n",
       "4   5                    Age Retirement    05/2012            1970   \n",
       "\n",
       "  role_start_date                                      position  \\\n",
       "0            2004                                Public Servant   \n",
       "1      Not Stated                                Public Servant   \n",
       "2            2011                               Schools Officer   \n",
       "3            2006                                       Teacher   \n",
       "4            1989  Head of Curriculum/Head of Special Education   \n",
       "\n",
       "  classification              region                      business_unit  \\\n",
       "0        A01-A04      Central Office  Corporate Strategy and Peformance   \n",
       "1        AO5-AO7      Central Office  Corporate Strategy and Peformance   \n",
       "2            NaN      Central Office               Education Queensland   \n",
       "3        Primary  Central Queensland                                NaN   \n",
       "4            NaN          South East                                NaN   \n",
       "\n",
       "     employment_status  ...   work_life_balance  workload  none_of_the_above  \\\n",
       "0  Permanent Full-time  ...               False     False               True   \n",
       "1  Permanent Full-time  ...               False     False              False   \n",
       "2  Permanent Full-time  ...               False     False               True   \n",
       "3  Permanent Full-time  ...               False     False              False   \n",
       "4  Permanent Full-time  ...                True     False              False   \n",
       "\n",
       "   gender          age  aboriginal  torres_strait  south_sea  disability  nesb  \n",
       "0    Male        56-60         NaN            NaN        NaN         NaN   Yes  \n",
       "1    Male        56-60         NaN            NaN        NaN         NaN   NaN  \n",
       "2    Male  61 or older         NaN            NaN        NaN         NaN   NaN  \n",
       "3  Female        36-40         NaN            NaN        NaN         NaN   NaN  \n",
       "4  Female  61 or older         NaN            NaN        NaN         NaN   NaN  \n",
       "\n",
       "[5 rows x 35 columns]"
      ]
     },
     "execution_count": 39,
     "metadata": {},
     "output_type": "execute_result"
    }
   ],
   "source": [
    "dete_survey_updated.head()"
   ]
  },
  {
   "cell_type": "code",
   "execution_count": 40,
   "metadata": {},
   "outputs": [
    {
     "data": {
      "text/plain": [
       "Index(['Record ID', 'Institute', 'WorkArea', 'CESSATION YEAR',\n",
       "       'Reason for ceasing employment',\n",
       "       'Contributing Factors. Career Move - Public Sector ',\n",
       "       'Contributing Factors. Career Move - Private Sector ',\n",
       "       'Contributing Factors. Career Move - Self-employment',\n",
       "       'Contributing Factors. Ill Health',\n",
       "       'Contributing Factors. Maternity/Family',\n",
       "       'Contributing Factors. Dissatisfaction',\n",
       "       'Contributing Factors. Job Dissatisfaction',\n",
       "       'Contributing Factors. Interpersonal Conflict',\n",
       "       'Contributing Factors. Study', 'Contributing Factors. Travel',\n",
       "       'Contributing Factors. Other', 'Contributing Factors. NONE',\n",
       "       'Gender. What is your Gender?', 'CurrentAge. Current Age',\n",
       "       'Employment Type. Employment Type', 'Classification. Classification',\n",
       "       'LengthofServiceOverall. Overall Length of Service at Institute (in years)',\n",
       "       'LengthofServiceCurrent. Length of Service at current workplace (in years)'],\n",
       "      dtype='object')"
      ]
     },
     "execution_count": 40,
     "metadata": {},
     "output_type": "execute_result"
    }
   ],
   "source": [
    "tafe_survey_updated.columns"
   ]
  },
  {
   "cell_type": "code",
   "execution_count": 41,
   "metadata": {},
   "outputs": [],
   "source": [
    "d={'Record ID':'id',\n",
    "'CESSATION YEAR':'cease_date',\n",
    "'Reason for ceasing employment': 'separationtype',\n",
    "'Gender. What is your Gender?': 'gender',\n",
    "'CurrentAge. Current Age': 'age',\n",
    "'Employment Type. Employment Type': 'employment_status',\n",
    "'Classification. Classification': 'position',\n",
    " 'LengthofServiceOverall. Overall Length of Service at Institute (in years)': 'institute_service'\n",
    "\n",
    "}"
   ]
  },
  {
   "cell_type": "code",
   "execution_count": 42,
   "metadata": {},
   "outputs": [
    {
     "data": {
      "text/plain": [
       "{'Record ID': 'id',\n",
       " 'CESSATION YEAR': 'cease_date',\n",
       " 'Reason for ceasing employment': 'separationtype',\n",
       " 'Gender. What is your Gender?': 'gender',\n",
       " 'CurrentAge. Current Age': 'age',\n",
       " 'Employment Type. Employment Type': 'employment_status',\n",
       " 'Classification. Classification': 'position',\n",
       " 'LengthofServiceOverall. Overall Length of Service at Institute (in years)': 'institute_service'}"
      ]
     },
     "execution_count": 42,
     "metadata": {},
     "output_type": "execute_result"
    }
   ],
   "source": [
    "d"
   ]
  },
  {
   "cell_type": "code",
   "execution_count": 43,
   "metadata": {},
   "outputs": [],
   "source": [
    "tafe_survey_updated=tafe_survey_updated.rename(d,axis=1)"
   ]
  },
  {
   "cell_type": "code",
   "execution_count": 44,
   "metadata": {},
   "outputs": [
    {
     "data": {
      "text/plain": [
       "Index(['id', 'Institute', 'WorkArea', 'cease_date', 'separationtype',\n",
       "       'Contributing Factors. Career Move - Public Sector ',\n",
       "       'Contributing Factors. Career Move - Private Sector ',\n",
       "       'Contributing Factors. Career Move - Self-employment',\n",
       "       'Contributing Factors. Ill Health',\n",
       "       'Contributing Factors. Maternity/Family',\n",
       "       'Contributing Factors. Dissatisfaction',\n",
       "       'Contributing Factors. Job Dissatisfaction',\n",
       "       'Contributing Factors. Interpersonal Conflict',\n",
       "       'Contributing Factors. Study', 'Contributing Factors. Travel',\n",
       "       'Contributing Factors. Other', 'Contributing Factors. NONE', 'gender',\n",
       "       'age', 'employment_status', 'position', 'institute_service',\n",
       "       'LengthofServiceCurrent. Length of Service at current workplace (in years)'],\n",
       "      dtype='object')"
      ]
     },
     "execution_count": 44,
     "metadata": {},
     "output_type": "execute_result"
    }
   ],
   "source": [
    "tafe_survey_updated.columns"
   ]
  },
  {
   "cell_type": "code",
   "execution_count": 45,
   "metadata": {},
   "outputs": [
    {
     "ename": "SyntaxError",
     "evalue": "invalid syntax (<ipython-input-45-c033570b48d5>, line 1)",
     "output_type": "error",
     "traceback": [
      "\u001b[0;36m  File \u001b[0;32m\"<ipython-input-45-c033570b48d5>\"\u001b[0;36m, line \u001b[0;32m1\u001b[0m\n\u001b[0;31m    Use the Series.value_counts() method to review the unique values in the separationtype column in both dete_survey_updated and tafe_survey_updated.\u001b[0m\n\u001b[0m          ^\u001b[0m\n\u001b[0;31mSyntaxError\u001b[0m\u001b[0;31m:\u001b[0m invalid syntax\n"
     ]
    }
   ],
   "source": [
    "Use the Series.value_counts() method to review the unique values in the separationtype column in both dete_survey_updated and tafe_survey_updated.\n",
    "In each of dataframes, select only the data for survey respondents who have a Resignation separation type.\n",
    "Remember that the dete_survey_updated dataframe contains three Resignation separation types. We want to select all of them.\n",
    "Use the DataFrame.copy() method on the result to avoid the SettingWithCopy Warning.\n",
    "Assign the result for dete_survey_updated to dete_resignations.\n",
    "Assign the reuslt for tafe_survey_updated to tafe_resignations.\n",
    "Write a markdown paragraph explaining the changes you made and why."
   ]
  },
  {
   "cell_type": "code",
   "execution_count": 46,
   "metadata": {},
   "outputs": [
    {
     "data": {
      "text/plain": [
       "Age Retirement                          285\n",
       "Resignation-Other reasons               150\n",
       "Resignation-Other employer               91\n",
       "Resignation-Move overseas/interstate     70\n",
       "Voluntary Early Retirement (VER)         67\n",
       "Ill Health Retirement                    61\n",
       "Other                                    49\n",
       "Contract Expired                         34\n",
       "Termination                              15\n",
       "Name: separationtype, dtype: int64"
      ]
     },
     "execution_count": 46,
     "metadata": {},
     "output_type": "execute_result"
    }
   ],
   "source": [
    "dete_survey_updated[\"separationtype\"].value_counts()\n"
   ]
  },
  {
   "cell_type": "code",
   "execution_count": null,
   "metadata": {},
   "outputs": [],
   "source": [
    "tafe_survey_updated[\"separationtype\"].value_counts()\n",
    "tafe_resignations=tafe_survey_updated.copy()"
   ]
  },
  {
   "cell_type": "code",
   "execution_count": null,
   "metadata": {},
   "outputs": [],
   "source": [
    "dete_resignations=dete_survey_updated.copy()"
   ]
  },
  {
   "cell_type": "code",
   "execution_count": 66,
   "metadata": {},
   "outputs": [
    {
     "data": {
      "text/plain": [
       "Resignation                 340\n",
       "Contract Expired            127\n",
       "Retrenchment/ Redundancy    104\n",
       "Retirement                   82\n",
       "Transfer                     25\n",
       "Termination                  23\n",
       "Name: separationtype, dtype: int64"
      ]
     },
     "execution_count": 66,
     "metadata": {},
     "output_type": "execute_result"
    }
   ],
   "source": [
    "tafe_survey_updated[\"separationtype\"].value_counts()\n"
   ]
  },
  {
   "cell_type": "code",
   "execution_count": 71,
   "metadata": {},
   "outputs": [],
   "source": [
    "def Resignation(s):\n",
    "    s=str(s)\n",
    "    if \"Resignation\" in s:\n",
    "        return True \n",
    "    else:\n",
    "        return False"
   ]
  },
  {
   "cell_type": "code",
   "execution_count": 72,
   "metadata": {},
   "outputs": [
    {
     "data": {
      "text/plain": [
       "Resignation-Other reasons               150\n",
       "Resignation-Other employer               91\n",
       "Resignation-Move overseas/interstate     70\n",
       "Name: separationtype, dtype: int64"
      ]
     },
     "execution_count": 72,
     "metadata": {},
     "output_type": "execute_result"
    }
   ],
   "source": [
    "dete_survey_updated[dete_survey_updated[\"separationtype\"].apply(Resignation)][\"separationtype\"].value_counts()"
   ]
  },
  {
   "cell_type": "code",
   "execution_count": 79,
   "metadata": {},
   "outputs": [
    {
     "data": {
      "text/plain": [
       "Resignation    340\n",
       "Name: separationtype, dtype: int64"
      ]
     },
     "execution_count": 79,
     "metadata": {},
     "output_type": "execute_result"
    }
   ],
   "source": [
    "tafe_survey_updated[tafe_survey_updated[\"separationtype\"].apply(Resignation)][\"separationtype\"].value_counts()"
   ]
  },
  {
   "cell_type": "code",
   "execution_count": 80,
   "metadata": {},
   "outputs": [
    {
     "data": {
      "text/html": [
       "<div>\n",
       "<style scoped>\n",
       "    .dataframe tbody tr th:only-of-type {\n",
       "        vertical-align: middle;\n",
       "    }\n",
       "\n",
       "    .dataframe tbody tr th {\n",
       "        vertical-align: top;\n",
       "    }\n",
       "\n",
       "    .dataframe thead th {\n",
       "        text-align: right;\n",
       "    }\n",
       "</style>\n",
       "<table border=\"1\" class=\"dataframe\">\n",
       "  <thead>\n",
       "    <tr style=\"text-align: right;\">\n",
       "      <th></th>\n",
       "      <th>id</th>\n",
       "      <th>Institute</th>\n",
       "      <th>WorkArea</th>\n",
       "      <th>cease_date</th>\n",
       "      <th>separationtype</th>\n",
       "      <th>Contributing Factors. Career Move - Public Sector</th>\n",
       "      <th>Contributing Factors. Career Move - Private Sector</th>\n",
       "      <th>Contributing Factors. Career Move - Self-employment</th>\n",
       "      <th>Contributing Factors. Ill Health</th>\n",
       "      <th>Contributing Factors. Maternity/Family</th>\n",
       "      <th>...</th>\n",
       "      <th>Contributing Factors. Study</th>\n",
       "      <th>Contributing Factors. Travel</th>\n",
       "      <th>Contributing Factors. Other</th>\n",
       "      <th>Contributing Factors. NONE</th>\n",
       "      <th>gender</th>\n",
       "      <th>age</th>\n",
       "      <th>employment_status</th>\n",
       "      <th>position</th>\n",
       "      <th>institute_service</th>\n",
       "      <th>LengthofServiceCurrent. Length of Service at current workplace (in years)</th>\n",
       "    </tr>\n",
       "  </thead>\n",
       "  <tbody>\n",
       "    <tr>\n",
       "      <th>0</th>\n",
       "      <td>6.341330e+17</td>\n",
       "      <td>Southern Queensland Institute of TAFE</td>\n",
       "      <td>Non-Delivery (corporate)</td>\n",
       "      <td>2010.0</td>\n",
       "      <td>Contract Expired</td>\n",
       "      <td>NaN</td>\n",
       "      <td>NaN</td>\n",
       "      <td>NaN</td>\n",
       "      <td>NaN</td>\n",
       "      <td>NaN</td>\n",
       "      <td>...</td>\n",
       "      <td>NaN</td>\n",
       "      <td>NaN</td>\n",
       "      <td>NaN</td>\n",
       "      <td>NaN</td>\n",
       "      <td>Female</td>\n",
       "      <td>26  30</td>\n",
       "      <td>Temporary Full-time</td>\n",
       "      <td>Administration (AO)</td>\n",
       "      <td>1-2</td>\n",
       "      <td>1-2</td>\n",
       "    </tr>\n",
       "    <tr>\n",
       "      <th>1</th>\n",
       "      <td>6.341337e+17</td>\n",
       "      <td>Mount Isa Institute of TAFE</td>\n",
       "      <td>Non-Delivery (corporate)</td>\n",
       "      <td>2010.0</td>\n",
       "      <td>Retirement</td>\n",
       "      <td>-</td>\n",
       "      <td>-</td>\n",
       "      <td>-</td>\n",
       "      <td>-</td>\n",
       "      <td>-</td>\n",
       "      <td>...</td>\n",
       "      <td>-</td>\n",
       "      <td>Travel</td>\n",
       "      <td>-</td>\n",
       "      <td>-</td>\n",
       "      <td>NaN</td>\n",
       "      <td>NaN</td>\n",
       "      <td>NaN</td>\n",
       "      <td>NaN</td>\n",
       "      <td>NaN</td>\n",
       "      <td>NaN</td>\n",
       "    </tr>\n",
       "    <tr>\n",
       "      <th>2</th>\n",
       "      <td>6.341388e+17</td>\n",
       "      <td>Mount Isa Institute of TAFE</td>\n",
       "      <td>Delivery (teaching)</td>\n",
       "      <td>2010.0</td>\n",
       "      <td>Retirement</td>\n",
       "      <td>-</td>\n",
       "      <td>-</td>\n",
       "      <td>-</td>\n",
       "      <td>-</td>\n",
       "      <td>-</td>\n",
       "      <td>...</td>\n",
       "      <td>-</td>\n",
       "      <td>-</td>\n",
       "      <td>-</td>\n",
       "      <td>NONE</td>\n",
       "      <td>NaN</td>\n",
       "      <td>NaN</td>\n",
       "      <td>NaN</td>\n",
       "      <td>NaN</td>\n",
       "      <td>NaN</td>\n",
       "      <td>NaN</td>\n",
       "    </tr>\n",
       "    <tr>\n",
       "      <th>3</th>\n",
       "      <td>6.341399e+17</td>\n",
       "      <td>Mount Isa Institute of TAFE</td>\n",
       "      <td>Non-Delivery (corporate)</td>\n",
       "      <td>2010.0</td>\n",
       "      <td>Resignation</td>\n",
       "      <td>-</td>\n",
       "      <td>-</td>\n",
       "      <td>-</td>\n",
       "      <td>-</td>\n",
       "      <td>-</td>\n",
       "      <td>...</td>\n",
       "      <td>-</td>\n",
       "      <td>Travel</td>\n",
       "      <td>-</td>\n",
       "      <td>-</td>\n",
       "      <td>NaN</td>\n",
       "      <td>NaN</td>\n",
       "      <td>NaN</td>\n",
       "      <td>NaN</td>\n",
       "      <td>NaN</td>\n",
       "      <td>NaN</td>\n",
       "    </tr>\n",
       "    <tr>\n",
       "      <th>4</th>\n",
       "      <td>6.341466e+17</td>\n",
       "      <td>Southern Queensland Institute of TAFE</td>\n",
       "      <td>Delivery (teaching)</td>\n",
       "      <td>2010.0</td>\n",
       "      <td>Resignation</td>\n",
       "      <td>-</td>\n",
       "      <td>Career Move - Private Sector</td>\n",
       "      <td>-</td>\n",
       "      <td>-</td>\n",
       "      <td>-</td>\n",
       "      <td>...</td>\n",
       "      <td>-</td>\n",
       "      <td>-</td>\n",
       "      <td>-</td>\n",
       "      <td>-</td>\n",
       "      <td>Male</td>\n",
       "      <td>41  45</td>\n",
       "      <td>Permanent Full-time</td>\n",
       "      <td>Teacher (including LVT)</td>\n",
       "      <td>3-4</td>\n",
       "      <td>3-4</td>\n",
       "    </tr>\n",
       "  </tbody>\n",
       "</table>\n",
       "<p>5 rows × 23 columns</p>\n",
       "</div>"
      ],
      "text/plain": [
       "             id                              Institute  \\\n",
       "0  6.341330e+17  Southern Queensland Institute of TAFE   \n",
       "1  6.341337e+17            Mount Isa Institute of TAFE   \n",
       "2  6.341388e+17            Mount Isa Institute of TAFE   \n",
       "3  6.341399e+17            Mount Isa Institute of TAFE   \n",
       "4  6.341466e+17  Southern Queensland Institute of TAFE   \n",
       "\n",
       "                   WorkArea  cease_date    separationtype  \\\n",
       "0  Non-Delivery (corporate)      2010.0  Contract Expired   \n",
       "1  Non-Delivery (corporate)      2010.0        Retirement   \n",
       "2       Delivery (teaching)      2010.0        Retirement   \n",
       "3  Non-Delivery (corporate)      2010.0       Resignation   \n",
       "4       Delivery (teaching)      2010.0       Resignation   \n",
       "\n",
       "  Contributing Factors. Career Move - Public Sector   \\\n",
       "0                                                NaN   \n",
       "1                                                  -   \n",
       "2                                                  -   \n",
       "3                                                  -   \n",
       "4                                                  -   \n",
       "\n",
       "  Contributing Factors. Career Move - Private Sector   \\\n",
       "0                                                NaN    \n",
       "1                                                  -    \n",
       "2                                                  -    \n",
       "3                                                  -    \n",
       "4                       Career Move - Private Sector    \n",
       "\n",
       "  Contributing Factors. Career Move - Self-employment  \\\n",
       "0                                                NaN    \n",
       "1                                                  -    \n",
       "2                                                  -    \n",
       "3                                                  -    \n",
       "4                                                  -    \n",
       "\n",
       "  Contributing Factors. Ill Health Contributing Factors. Maternity/Family  \\\n",
       "0                              NaN                                    NaN   \n",
       "1                                -                                      -   \n",
       "2                                -                                      -   \n",
       "3                                -                                      -   \n",
       "4                                -                                      -   \n",
       "\n",
       "                                     ...                                     \\\n",
       "0                                    ...                                      \n",
       "1                                    ...                                      \n",
       "2                                    ...                                      \n",
       "3                                    ...                                      \n",
       "4                                    ...                                      \n",
       "\n",
       "  Contributing Factors. Study Contributing Factors. Travel  \\\n",
       "0                         NaN                          NaN   \n",
       "1                           -                       Travel   \n",
       "2                           -                            -   \n",
       "3                           -                       Travel   \n",
       "4                           -                            -   \n",
       "\n",
       "  Contributing Factors. Other Contributing Factors. NONE  gender     age  \\\n",
       "0                         NaN                        NaN  Female  26  30   \n",
       "1                           -                          -     NaN     NaN   \n",
       "2                           -                       NONE     NaN     NaN   \n",
       "3                           -                          -     NaN     NaN   \n",
       "4                           -                          -    Male  41  45   \n",
       "\n",
       "     employment_status                 position institute_service  \\\n",
       "0  Temporary Full-time      Administration (AO)               1-2   \n",
       "1                  NaN                      NaN               NaN   \n",
       "2                  NaN                      NaN               NaN   \n",
       "3                  NaN                      NaN               NaN   \n",
       "4  Permanent Full-time  Teacher (including LVT)               3-4   \n",
       "\n",
       "  LengthofServiceCurrent. Length of Service at current workplace (in years)  \n",
       "0                                                1-2                         \n",
       "1                                                NaN                         \n",
       "2                                                NaN                         \n",
       "3                                                NaN                         \n",
       "4                                                3-4                         \n",
       "\n",
       "[5 rows x 23 columns]"
      ]
     },
     "execution_count": 80,
     "metadata": {},
     "output_type": "execute_result"
    }
   ],
   "source": [
    "tafe_survey_updated.head()"
   ]
  },
  {
   "cell_type": "code",
   "execution_count": 83,
   "metadata": {},
   "outputs": [],
   "source": [
    "tafe_resignations=tafe_survey_updated[tafe_survey_updated[\"separationtype\"].apply(Resignation)]"
   ]
  },
  {
   "cell_type": "code",
   "execution_count": 84,
   "metadata": {},
   "outputs": [],
   "source": [
    "dete_resignations=dete_survey_updated[dete_survey_updated[\"separationtype\"].apply(Resignation)]"
   ]
  },
  {
   "cell_type": "code",
   "execution_count": 85,
   "metadata": {},
   "outputs": [
    {
     "data": {
      "text/html": [
       "<div>\n",
       "<style scoped>\n",
       "    .dataframe tbody tr th:only-of-type {\n",
       "        vertical-align: middle;\n",
       "    }\n",
       "\n",
       "    .dataframe tbody tr th {\n",
       "        vertical-align: top;\n",
       "    }\n",
       "\n",
       "    .dataframe thead th {\n",
       "        text-align: right;\n",
       "    }\n",
       "</style>\n",
       "<table border=\"1\" class=\"dataframe\">\n",
       "  <thead>\n",
       "    <tr style=\"text-align: right;\">\n",
       "      <th></th>\n",
       "      <th>id</th>\n",
       "      <th>separationtype</th>\n",
       "      <th>cease_date</th>\n",
       "      <th>dete_start_date</th>\n",
       "      <th>role_start_date</th>\n",
       "      <th>position</th>\n",
       "      <th>classification</th>\n",
       "      <th>region</th>\n",
       "      <th>business_unit</th>\n",
       "      <th>employment_status</th>\n",
       "      <th>...</th>\n",
       "      <th>work_life_balance</th>\n",
       "      <th>workload</th>\n",
       "      <th>none_of_the_above</th>\n",
       "      <th>gender</th>\n",
       "      <th>age</th>\n",
       "      <th>aboriginal</th>\n",
       "      <th>torres_strait</th>\n",
       "      <th>south_sea</th>\n",
       "      <th>disability</th>\n",
       "      <th>nesb</th>\n",
       "    </tr>\n",
       "  </thead>\n",
       "  <tbody>\n",
       "    <tr>\n",
       "      <th>3</th>\n",
       "      <td>4</td>\n",
       "      <td>Resignation-Other reasons</td>\n",
       "      <td>05/2012</td>\n",
       "      <td>2005</td>\n",
       "      <td>2006</td>\n",
       "      <td>Teacher</td>\n",
       "      <td>Primary</td>\n",
       "      <td>Central Queensland</td>\n",
       "      <td>NaN</td>\n",
       "      <td>Permanent Full-time</td>\n",
       "      <td>...</td>\n",
       "      <td>False</td>\n",
       "      <td>False</td>\n",
       "      <td>False</td>\n",
       "      <td>Female</td>\n",
       "      <td>36-40</td>\n",
       "      <td>NaN</td>\n",
       "      <td>NaN</td>\n",
       "      <td>NaN</td>\n",
       "      <td>NaN</td>\n",
       "      <td>NaN</td>\n",
       "    </tr>\n",
       "    <tr>\n",
       "      <th>5</th>\n",
       "      <td>6</td>\n",
       "      <td>Resignation-Other reasons</td>\n",
       "      <td>05/2012</td>\n",
       "      <td>1994</td>\n",
       "      <td>1997</td>\n",
       "      <td>Guidance Officer</td>\n",
       "      <td>NaN</td>\n",
       "      <td>Central Office</td>\n",
       "      <td>Education Queensland</td>\n",
       "      <td>Permanent Full-time</td>\n",
       "      <td>...</td>\n",
       "      <td>False</td>\n",
       "      <td>False</td>\n",
       "      <td>False</td>\n",
       "      <td>Female</td>\n",
       "      <td>41-45</td>\n",
       "      <td>NaN</td>\n",
       "      <td>NaN</td>\n",
       "      <td>NaN</td>\n",
       "      <td>NaN</td>\n",
       "      <td>NaN</td>\n",
       "    </tr>\n",
       "    <tr>\n",
       "      <th>8</th>\n",
       "      <td>9</td>\n",
       "      <td>Resignation-Other reasons</td>\n",
       "      <td>07/2012</td>\n",
       "      <td>2009</td>\n",
       "      <td>2009</td>\n",
       "      <td>Teacher</td>\n",
       "      <td>Secondary</td>\n",
       "      <td>North Queensland</td>\n",
       "      <td>NaN</td>\n",
       "      <td>Permanent Full-time</td>\n",
       "      <td>...</td>\n",
       "      <td>False</td>\n",
       "      <td>False</td>\n",
       "      <td>False</td>\n",
       "      <td>Female</td>\n",
       "      <td>31-35</td>\n",
       "      <td>NaN</td>\n",
       "      <td>NaN</td>\n",
       "      <td>NaN</td>\n",
       "      <td>NaN</td>\n",
       "      <td>NaN</td>\n",
       "    </tr>\n",
       "    <tr>\n",
       "      <th>9</th>\n",
       "      <td>10</td>\n",
       "      <td>Resignation-Other employer</td>\n",
       "      <td>2012</td>\n",
       "      <td>1997</td>\n",
       "      <td>2008</td>\n",
       "      <td>Teacher Aide</td>\n",
       "      <td>NaN</td>\n",
       "      <td>Not Stated</td>\n",
       "      <td>NaN</td>\n",
       "      <td>Permanent Part-time</td>\n",
       "      <td>...</td>\n",
       "      <td>False</td>\n",
       "      <td>False</td>\n",
       "      <td>False</td>\n",
       "      <td>Female</td>\n",
       "      <td>46-50</td>\n",
       "      <td>NaN</td>\n",
       "      <td>NaN</td>\n",
       "      <td>NaN</td>\n",
       "      <td>NaN</td>\n",
       "      <td>NaN</td>\n",
       "    </tr>\n",
       "    <tr>\n",
       "      <th>11</th>\n",
       "      <td>12</td>\n",
       "      <td>Resignation-Move overseas/interstate</td>\n",
       "      <td>2012</td>\n",
       "      <td>2009</td>\n",
       "      <td>2009</td>\n",
       "      <td>Teacher</td>\n",
       "      <td>Secondary</td>\n",
       "      <td>Far North Queensland</td>\n",
       "      <td>NaN</td>\n",
       "      <td>Permanent Full-time</td>\n",
       "      <td>...</td>\n",
       "      <td>False</td>\n",
       "      <td>False</td>\n",
       "      <td>False</td>\n",
       "      <td>Male</td>\n",
       "      <td>31-35</td>\n",
       "      <td>NaN</td>\n",
       "      <td>NaN</td>\n",
       "      <td>NaN</td>\n",
       "      <td>NaN</td>\n",
       "      <td>NaN</td>\n",
       "    </tr>\n",
       "  </tbody>\n",
       "</table>\n",
       "<p>5 rows × 35 columns</p>\n",
       "</div>"
      ],
      "text/plain": [
       "    id                        separationtype cease_date dete_start_date  \\\n",
       "3    4             Resignation-Other reasons    05/2012            2005   \n",
       "5    6             Resignation-Other reasons    05/2012            1994   \n",
       "8    9             Resignation-Other reasons    07/2012            2009   \n",
       "9   10            Resignation-Other employer       2012            1997   \n",
       "11  12  Resignation-Move overseas/interstate       2012            2009   \n",
       "\n",
       "   role_start_date          position classification                region  \\\n",
       "3             2006           Teacher        Primary    Central Queensland   \n",
       "5             1997  Guidance Officer            NaN        Central Office   \n",
       "8             2009           Teacher      Secondary      North Queensland   \n",
       "9             2008      Teacher Aide            NaN            Not Stated   \n",
       "11            2009           Teacher      Secondary  Far North Queensland   \n",
       "\n",
       "           business_unit    employment_status  ...   work_life_balance  \\\n",
       "3                    NaN  Permanent Full-time  ...               False   \n",
       "5   Education Queensland  Permanent Full-time  ...               False   \n",
       "8                    NaN  Permanent Full-time  ...               False   \n",
       "9                    NaN  Permanent Part-time  ...               False   \n",
       "11                   NaN  Permanent Full-time  ...               False   \n",
       "\n",
       "    workload  none_of_the_above  gender    age  aboriginal  torres_strait  \\\n",
       "3      False              False  Female  36-40         NaN            NaN   \n",
       "5      False              False  Female  41-45         NaN            NaN   \n",
       "8      False              False  Female  31-35         NaN            NaN   \n",
       "9      False              False  Female  46-50         NaN            NaN   \n",
       "11     False              False    Male  31-35         NaN            NaN   \n",
       "\n",
       "    south_sea  disability  nesb  \n",
       "3         NaN         NaN   NaN  \n",
       "5         NaN         NaN   NaN  \n",
       "8         NaN         NaN   NaN  \n",
       "9         NaN         NaN   NaN  \n",
       "11        NaN         NaN   NaN  \n",
       "\n",
       "[5 rows x 35 columns]"
      ]
     },
     "execution_count": 85,
     "metadata": {},
     "output_type": "execute_result"
    }
   ],
   "source": [
    "dete_resignations.head()"
   ]
  },
  {
   "cell_type": "code",
   "execution_count": 86,
   "metadata": {},
   "outputs": [
    {
     "data": {
      "text/html": [
       "<div>\n",
       "<style scoped>\n",
       "    .dataframe tbody tr th:only-of-type {\n",
       "        vertical-align: middle;\n",
       "    }\n",
       "\n",
       "    .dataframe tbody tr th {\n",
       "        vertical-align: top;\n",
       "    }\n",
       "\n",
       "    .dataframe thead th {\n",
       "        text-align: right;\n",
       "    }\n",
       "</style>\n",
       "<table border=\"1\" class=\"dataframe\">\n",
       "  <thead>\n",
       "    <tr style=\"text-align: right;\">\n",
       "      <th></th>\n",
       "      <th>id</th>\n",
       "      <th>Institute</th>\n",
       "      <th>WorkArea</th>\n",
       "      <th>cease_date</th>\n",
       "      <th>separationtype</th>\n",
       "      <th>Contributing Factors. Career Move - Public Sector</th>\n",
       "      <th>Contributing Factors. Career Move - Private Sector</th>\n",
       "      <th>Contributing Factors. Career Move - Self-employment</th>\n",
       "      <th>Contributing Factors. Ill Health</th>\n",
       "      <th>Contributing Factors. Maternity/Family</th>\n",
       "      <th>...</th>\n",
       "      <th>Contributing Factors. Study</th>\n",
       "      <th>Contributing Factors. Travel</th>\n",
       "      <th>Contributing Factors. Other</th>\n",
       "      <th>Contributing Factors. NONE</th>\n",
       "      <th>gender</th>\n",
       "      <th>age</th>\n",
       "      <th>employment_status</th>\n",
       "      <th>position</th>\n",
       "      <th>institute_service</th>\n",
       "      <th>LengthofServiceCurrent. Length of Service at current workplace (in years)</th>\n",
       "    </tr>\n",
       "  </thead>\n",
       "  <tbody>\n",
       "    <tr>\n",
       "      <th>3</th>\n",
       "      <td>6.341399e+17</td>\n",
       "      <td>Mount Isa Institute of TAFE</td>\n",
       "      <td>Non-Delivery (corporate)</td>\n",
       "      <td>2010.0</td>\n",
       "      <td>Resignation</td>\n",
       "      <td>-</td>\n",
       "      <td>-</td>\n",
       "      <td>-</td>\n",
       "      <td>-</td>\n",
       "      <td>-</td>\n",
       "      <td>...</td>\n",
       "      <td>-</td>\n",
       "      <td>Travel</td>\n",
       "      <td>-</td>\n",
       "      <td>-</td>\n",
       "      <td>NaN</td>\n",
       "      <td>NaN</td>\n",
       "      <td>NaN</td>\n",
       "      <td>NaN</td>\n",
       "      <td>NaN</td>\n",
       "      <td>NaN</td>\n",
       "    </tr>\n",
       "    <tr>\n",
       "      <th>4</th>\n",
       "      <td>6.341466e+17</td>\n",
       "      <td>Southern Queensland Institute of TAFE</td>\n",
       "      <td>Delivery (teaching)</td>\n",
       "      <td>2010.0</td>\n",
       "      <td>Resignation</td>\n",
       "      <td>-</td>\n",
       "      <td>Career Move - Private Sector</td>\n",
       "      <td>-</td>\n",
       "      <td>-</td>\n",
       "      <td>-</td>\n",
       "      <td>...</td>\n",
       "      <td>-</td>\n",
       "      <td>-</td>\n",
       "      <td>-</td>\n",
       "      <td>-</td>\n",
       "      <td>Male</td>\n",
       "      <td>41  45</td>\n",
       "      <td>Permanent Full-time</td>\n",
       "      <td>Teacher (including LVT)</td>\n",
       "      <td>3-4</td>\n",
       "      <td>3-4</td>\n",
       "    </tr>\n",
       "    <tr>\n",
       "      <th>5</th>\n",
       "      <td>6.341475e+17</td>\n",
       "      <td>Southern Queensland Institute of TAFE</td>\n",
       "      <td>Delivery (teaching)</td>\n",
       "      <td>2010.0</td>\n",
       "      <td>Resignation</td>\n",
       "      <td>-</td>\n",
       "      <td>-</td>\n",
       "      <td>-</td>\n",
       "      <td>-</td>\n",
       "      <td>-</td>\n",
       "      <td>...</td>\n",
       "      <td>-</td>\n",
       "      <td>-</td>\n",
       "      <td>Other</td>\n",
       "      <td>-</td>\n",
       "      <td>Female</td>\n",
       "      <td>56 or older</td>\n",
       "      <td>Contract/casual</td>\n",
       "      <td>Teacher (including LVT)</td>\n",
       "      <td>7-10</td>\n",
       "      <td>7-10</td>\n",
       "    </tr>\n",
       "    <tr>\n",
       "      <th>6</th>\n",
       "      <td>6.341520e+17</td>\n",
       "      <td>Barrier Reef Institute of TAFE</td>\n",
       "      <td>Non-Delivery (corporate)</td>\n",
       "      <td>2010.0</td>\n",
       "      <td>Resignation</td>\n",
       "      <td>-</td>\n",
       "      <td>Career Move - Private Sector</td>\n",
       "      <td>-</td>\n",
       "      <td>-</td>\n",
       "      <td>Maternity/Family</td>\n",
       "      <td>...</td>\n",
       "      <td>-</td>\n",
       "      <td>-</td>\n",
       "      <td>Other</td>\n",
       "      <td>-</td>\n",
       "      <td>Male</td>\n",
       "      <td>20 or younger</td>\n",
       "      <td>Temporary Full-time</td>\n",
       "      <td>Administration (AO)</td>\n",
       "      <td>3-4</td>\n",
       "      <td>3-4</td>\n",
       "    </tr>\n",
       "    <tr>\n",
       "      <th>7</th>\n",
       "      <td>6.341537e+17</td>\n",
       "      <td>Southern Queensland Institute of TAFE</td>\n",
       "      <td>Delivery (teaching)</td>\n",
       "      <td>2010.0</td>\n",
       "      <td>Resignation</td>\n",
       "      <td>-</td>\n",
       "      <td>-</td>\n",
       "      <td>-</td>\n",
       "      <td>-</td>\n",
       "      <td>-</td>\n",
       "      <td>...</td>\n",
       "      <td>-</td>\n",
       "      <td>-</td>\n",
       "      <td>Other</td>\n",
       "      <td>-</td>\n",
       "      <td>Male</td>\n",
       "      <td>46  50</td>\n",
       "      <td>Permanent Full-time</td>\n",
       "      <td>Teacher (including LVT)</td>\n",
       "      <td>3-4</td>\n",
       "      <td>3-4</td>\n",
       "    </tr>\n",
       "  </tbody>\n",
       "</table>\n",
       "<p>5 rows × 23 columns</p>\n",
       "</div>"
      ],
      "text/plain": [
       "             id                              Institute  \\\n",
       "3  6.341399e+17            Mount Isa Institute of TAFE   \n",
       "4  6.341466e+17  Southern Queensland Institute of TAFE   \n",
       "5  6.341475e+17  Southern Queensland Institute of TAFE   \n",
       "6  6.341520e+17         Barrier Reef Institute of TAFE   \n",
       "7  6.341537e+17  Southern Queensland Institute of TAFE   \n",
       "\n",
       "                   WorkArea  cease_date separationtype  \\\n",
       "3  Non-Delivery (corporate)      2010.0    Resignation   \n",
       "4       Delivery (teaching)      2010.0    Resignation   \n",
       "5       Delivery (teaching)      2010.0    Resignation   \n",
       "6  Non-Delivery (corporate)      2010.0    Resignation   \n",
       "7       Delivery (teaching)      2010.0    Resignation   \n",
       "\n",
       "  Contributing Factors. Career Move - Public Sector   \\\n",
       "3                                                  -   \n",
       "4                                                  -   \n",
       "5                                                  -   \n",
       "6                                                  -   \n",
       "7                                                  -   \n",
       "\n",
       "  Contributing Factors. Career Move - Private Sector   \\\n",
       "3                                                  -    \n",
       "4                       Career Move - Private Sector    \n",
       "5                                                  -    \n",
       "6                       Career Move - Private Sector    \n",
       "7                                                  -    \n",
       "\n",
       "  Contributing Factors. Career Move - Self-employment  \\\n",
       "3                                                  -    \n",
       "4                                                  -    \n",
       "5                                                  -    \n",
       "6                                                  -    \n",
       "7                                                  -    \n",
       "\n",
       "  Contributing Factors. Ill Health Contributing Factors. Maternity/Family  \\\n",
       "3                                -                                      -   \n",
       "4                                -                                      -   \n",
       "5                                -                                      -   \n",
       "6                                -                       Maternity/Family   \n",
       "7                                -                                      -   \n",
       "\n",
       "                                     ...                                     \\\n",
       "3                                    ...                                      \n",
       "4                                    ...                                      \n",
       "5                                    ...                                      \n",
       "6                                    ...                                      \n",
       "7                                    ...                                      \n",
       "\n",
       "  Contributing Factors. Study Contributing Factors. Travel  \\\n",
       "3                           -                       Travel   \n",
       "4                           -                            -   \n",
       "5                           -                            -   \n",
       "6                           -                            -   \n",
       "7                           -                            -   \n",
       "\n",
       "  Contributing Factors. Other Contributing Factors. NONE  gender  \\\n",
       "3                           -                          -     NaN   \n",
       "4                           -                          -    Male   \n",
       "5                       Other                          -  Female   \n",
       "6                       Other                          -    Male   \n",
       "7                       Other                          -    Male   \n",
       "\n",
       "             age    employment_status                 position  \\\n",
       "3            NaN                  NaN                      NaN   \n",
       "4         41  45  Permanent Full-time  Teacher (including LVT)   \n",
       "5    56 or older      Contract/casual  Teacher (including LVT)   \n",
       "6  20 or younger  Temporary Full-time      Administration (AO)   \n",
       "7         46  50  Permanent Full-time  Teacher (including LVT)   \n",
       "\n",
       "  institute_service  \\\n",
       "3               NaN   \n",
       "4               3-4   \n",
       "5              7-10   \n",
       "6               3-4   \n",
       "7               3-4   \n",
       "\n",
       "  LengthofServiceCurrent. Length of Service at current workplace (in years)  \n",
       "3                                                NaN                         \n",
       "4                                                3-4                         \n",
       "5                                               7-10                         \n",
       "6                                                3-4                         \n",
       "7                                                3-4                         \n",
       "\n",
       "[5 rows x 23 columns]"
      ]
     },
     "execution_count": 86,
     "metadata": {},
     "output_type": "execute_result"
    }
   ],
   "source": [
    "tafe_resignations.head()"
   ]
  },
  {
   "cell_type": "code",
   "execution_count": 87,
   "metadata": {},
   "outputs": [
    {
     "data": {
      "text/plain": [
       "Not Stated    28\n",
       "2011          24\n",
       "2008          22\n",
       "2007          21\n",
       "2012          21\n",
       "Name: dete_start_date, dtype: int64"
      ]
     },
     "execution_count": 87,
     "metadata": {},
     "output_type": "execute_result"
    }
   ],
   "source": [
    "dete_resignations[\"cease_date\"].value_counts().head()\n",
    "dete_resignations[\"dete_start_date\"].value_counts().head()"
   ]
  },
  {
   "cell_type": "code",
   "execution_count": 88,
   "metadata": {},
   "outputs": [
    {
     "data": {
      "text/plain": [
       "2012          126\n",
       "2013           74\n",
       "01/2014        22\n",
       "12/2013        17\n",
       "06/2013        14\n",
       "09/2013        11\n",
       "Not Stated     11\n",
       "11/2013         9\n",
       "07/2013         9\n",
       "10/2013         6\n",
       "08/2013         4\n",
       "05/2012         2\n",
       "05/2013         2\n",
       "2010            1\n",
       "09/2010         1\n",
       "07/2006         1\n",
       "07/2012         1\n",
       "Name: cease_date, dtype: int64"
      ]
     },
     "execution_count": 88,
     "metadata": {},
     "output_type": "execute_result"
    }
   ],
   "source": [
    "dete_resignations[\"cease_date\"].value_counts()"
   ]
  },
  {
   "cell_type": "code",
   "execution_count": 93,
   "metadata": {},
   "outputs": [
    {
     "data": {
      "text/html": [
       "<div>\n",
       "<style scoped>\n",
       "    .dataframe tbody tr th:only-of-type {\n",
       "        vertical-align: middle;\n",
       "    }\n",
       "\n",
       "    .dataframe tbody tr th {\n",
       "        vertical-align: top;\n",
       "    }\n",
       "\n",
       "    .dataframe thead th {\n",
       "        text-align: right;\n",
       "    }\n",
       "</style>\n",
       "<table border=\"1\" class=\"dataframe\">\n",
       "  <thead>\n",
       "    <tr style=\"text-align: right;\">\n",
       "      <th></th>\n",
       "      <th>year</th>\n",
       "    </tr>\n",
       "  </thead>\n",
       "  <tbody>\n",
       "    <tr>\n",
       "      <th>3</th>\n",
       "      <td>2012.0</td>\n",
       "    </tr>\n",
       "    <tr>\n",
       "      <th>5</th>\n",
       "      <td>2012.0</td>\n",
       "    </tr>\n",
       "    <tr>\n",
       "      <th>8</th>\n",
       "      <td>2012.0</td>\n",
       "    </tr>\n",
       "    <tr>\n",
       "      <th>9</th>\n",
       "      <td>2012.0</td>\n",
       "    </tr>\n",
       "    <tr>\n",
       "      <th>11</th>\n",
       "      <td>2012.0</td>\n",
       "    </tr>\n",
       "  </tbody>\n",
       "</table>\n",
       "</div>"
      ],
      "text/plain": [
       "      year\n",
       "3   2012.0\n",
       "5   2012.0\n",
       "8   2012.0\n",
       "9   2012.0\n",
       "11  2012.0"
      ]
     },
     "execution_count": 93,
     "metadata": {},
     "output_type": "execute_result"
    }
   ],
   "source": [
    "year=r\"(?P<year>[1-2][0-9]{3})\"\n",
    "dete_resignations[\"cease_date\"].str.extract(year).astype(float).head()"
   ]
  },
  {
   "cell_type": "code",
   "execution_count": 101,
   "metadata": {},
   "outputs": [
    {
     "data": {
      "text/plain": [
       "2013.0    146\n",
       "2012.0    129\n",
       "2014.0     22\n",
       "2010.0      2\n",
       "2006.0      1\n",
       "Name: year, dtype: int64"
      ]
     },
     "execution_count": 101,
     "metadata": {},
     "output_type": "execute_result"
    }
   ],
   "source": [
    "dete_resignations[\"cease_date\"].str.extract(year).astype(float)[\"year\"].value_counts()"
   ]
  },
  {
   "cell_type": "code",
   "execution_count": 102,
   "metadata": {
    "scrolled": true
   },
   "outputs": [
    {
     "data": {
      "text/plain": [
       "01/2014        22\n",
       "05/2012         2\n",
       "05/2013         2\n",
       "06/2013        14\n",
       "07/2006         1\n",
       "07/2012         1\n",
       "07/2013         9\n",
       "08/2013         4\n",
       "09/2010         1\n",
       "09/2013        11\n",
       "10/2013         6\n",
       "11/2013         9\n",
       "12/2013        17\n",
       "2010            1\n",
       "2012          126\n",
       "2013           74\n",
       "Not Stated     11\n",
       "Name: cease_date, dtype: int64"
      ]
     },
     "execution_count": 102,
     "metadata": {},
     "output_type": "execute_result"
    }
   ],
   "source": [
    "dete_resignations[\"cease_date\"].value_counts().sort_index(ascending= True)\n",
    "\n"
   ]
  },
  {
   "cell_type": "code",
   "execution_count": 104,
   "metadata": {},
   "outputs": [
    {
     "data": {
      "text/plain": [
       "2014.0     22\n",
       "2013.0    146\n",
       "2012.0    129\n",
       "2010.0      2\n",
       "2006.0      1\n",
       "Name: year, dtype: int64"
      ]
     },
     "execution_count": 104,
     "metadata": {},
     "output_type": "execute_result"
    }
   ],
   "source": [
    "dete_resignations[\"cease_date\"].str.extract(year).astype(float)[\"year\"].value_counts().sort_index(ascending= False)"
   ]
  },
  {
   "cell_type": "code",
   "execution_count": null,
   "metadata": {},
   "outputs": [],
   "source": []
  }
 ],
 "metadata": {
  "kernelspec": {
   "display_name": "Python 3",
   "language": "python",
   "name": "python3"
  },
  "language_info": {
   "codemirror_mode": {
    "name": "ipython",
    "version": 3
   },
   "file_extension": ".py",
   "mimetype": "text/x-python",
   "name": "python",
   "nbconvert_exporter": "python",
   "pygments_lexer": "ipython3",
   "version": "3.7.1"
  }
 },
 "nbformat": 4,
 "nbformat_minor": 2
}
