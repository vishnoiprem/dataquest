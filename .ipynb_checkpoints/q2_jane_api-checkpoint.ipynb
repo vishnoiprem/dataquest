{
 "cells": [
  {
   "cell_type": "code",
   "execution_count": 1,
   "metadata": {},
   "outputs": [],
   "source": [
    "import requests\n",
    "import json\n",
    "import dateutil.parser\n",
    "\n",
    "# Auth for connection\n",
    "cred={\"X-StorageApi-Token\" : \"4861-149461-PgbiEYQs0SLtnQM66c3puRKrUCXSalnlFL44hexH\"}\n",
    "\n",
    "# Api for finding the list of buckets  \n",
    "api=\"https://connection.keboola.com/v2/storage/buckets\"\n",
    "\n",
    "# Finding the bucket \n",
    "req = requests.get(api,headers=cred)\n",
    "json_val = json.loads(req.text)\n"
   ]
  },
  {
   "cell_type": "code",
   "execution_count": 2,
   "metadata": {},
   "outputs": [
    {
     "data": {
      "text/plain": [
       "['foo', {'bar': ['baz', None, 1.0, 2]}]"
      ]
     },
     "execution_count": 2,
     "metadata": {},
     "output_type": "execute_result"
    }
   ],
   "source": [
    "import json\n",
    "json.loads('[\"foo\", {\"bar\":[\"baz\", null, 1.0, 2]}]')"
   ]
  },
  {
   "cell_type": "code",
   "execution_count": 3,
   "metadata": {},
   "outputs": [
    {
     "data": {
      "text/plain": [
       "list"
      ]
     },
     "execution_count": 3,
     "metadata": {},
     "output_type": "execute_result"
    }
   ],
   "source": [
    "type(json.loads('[\"foo\", {\"bar\":[\"baz\", null, 1.0, 2]}]'))"
   ]
  },
  {
   "cell_type": "code",
   "execution_count": 4,
   "metadata": {},
   "outputs": [
    {
     "data": {
      "text/plain": [
       "[{'uri': 'https://connection.keboola.com/v2/storage/buckets/in.c-python_test_applicants',\n",
       "  'id': 'in.c-python_test_applicants',\n",
       "  'name': 'c-python_test_applicants',\n",
       "  'stage': 'in',\n",
       "  'description': '',\n",
       "  'tables': 'https://connection.keboola.com/v2/storage/buckets/in.c-python_test_applicants/tables',\n",
       "  'created': '2018-12-05T05:34:41+0100',\n",
       "  'lastChangeDate': '2018-12-05T07:50:11+0100',\n",
       "  'isReadOnly': False,\n",
       "  'dataSizeBytes': 63265280,\n",
       "  'rowsCount': 4324420,\n",
       "  'isMaintenance': False,\n",
       "  'backend': 'snowflake',\n",
       "  'sharing': None,\n",
       "  'attributes': []}]"
      ]
     },
     "execution_count": 4,
     "metadata": {},
     "output_type": "execute_result"
    }
   ],
   "source": [
    "json_val"
   ]
  },
  {
   "cell_type": "code",
   "execution_count": 6,
   "metadata": {},
   "outputs": [
    {
     "data": {
      "text/plain": [
       "0"
      ]
     },
     "execution_count": 6,
     "metadata": {},
     "output_type": "execute_result"
    }
   ],
   "source": [
    "[0,2][0]"
   ]
  },
  {
   "cell_type": "code",
   "execution_count": 7,
   "metadata": {},
   "outputs": [
    {
     "data": {
      "text/plain": [
       "{'uri': 'https://connection.keboola.com/v2/storage/buckets/in.c-python_test_applicants',\n",
       " 'id': 'in.c-python_test_applicants',\n",
       " 'name': 'c-python_test_applicants',\n",
       " 'stage': 'in',\n",
       " 'description': '',\n",
       " 'tables': 'https://connection.keboola.com/v2/storage/buckets/in.c-python_test_applicants/tables',\n",
       " 'created': '2018-12-05T05:34:41+0100',\n",
       " 'lastChangeDate': '2018-12-05T07:50:11+0100',\n",
       " 'isReadOnly': False,\n",
       " 'dataSizeBytes': 63265280,\n",
       " 'rowsCount': 4324420,\n",
       " 'isMaintenance': False,\n",
       " 'backend': 'snowflake',\n",
       " 'sharing': None,\n",
       " 'attributes': []}"
      ]
     },
     "execution_count": 7,
     "metadata": {},
     "output_type": "execute_result"
    }
   ],
   "source": [
    "json_val[0]"
   ]
  },
  {
   "cell_type": "code",
   "execution_count": 10,
   "metadata": {},
   "outputs": [],
   "source": [
    "bucket=json_val[0]['id']"
   ]
  },
  {
   "cell_type": "code",
   "execution_count": 11,
   "metadata": {},
   "outputs": [],
   "source": [
    "new_api= \"https://connection.keboola.com/v2/storage/buckets/\"+ bucket + \"/tables\"\n",
    "req = requests.get(new_api,headers=cred)\n",
    "json_val = json.loads(req.text)\n",
    "\n"
   ]
  },
  {
   "cell_type": "code",
   "execution_count": 12,
   "metadata": {},
   "outputs": [
    {
     "data": {
      "text/plain": [
       "[{'uri': 'https://connection.keboola.com/v2/storage/tables/in.c-python_test_applicants.TABLE_A',\n",
       "  'id': 'in.c-python_test_applicants.TABLE_A',\n",
       "  'name': 'TABLE_A',\n",
       "  'transactional': False,\n",
       "  'primaryKey': [],\n",
       "  'indexedColumns': [],\n",
       "  'created': '2018-12-05T07:49:30+0100',\n",
       "  'lastImportDate': '2018-12-05T07:49:43+0100',\n",
       "  'lastChangeDate': '2018-12-05T07:49:43+0100',\n",
       "  'rowsCount': 2162210,\n",
       "  'dataSizeBytes': 28416000,\n",
       "  'isAlias': False,\n",
       "  'isAliasable': True,\n",
       "  'attributes': [],\n",
       "  'metadata': [{'id': '90660024',\n",
       "    'key': 'KBC.createdBy.component.id',\n",
       "    'value': 'transformation',\n",
       "    'provider': 'system',\n",
       "    'timestamp': '2018-12-05T07:49:55+0100'},\n",
       "   {'id': '90660025',\n",
       "    'key': 'KBC.createdBy.configuration.id',\n",
       "    'value': '468769589',\n",
       "    'provider': 'system',\n",
       "    'timestamp': '2018-12-05T07:49:55+0100'},\n",
       "   {'id': '90660026',\n",
       "    'key': 'KBC.createdBy.configurationRow.id',\n",
       "    'value': '468769618',\n",
       "    'provider': 'system',\n",
       "    'timestamp': '2018-12-05T07:49:55+0100'},\n",
       "   {'id': '90660027',\n",
       "    'key': 'KBC.lastUpdatedBy.component.id',\n",
       "    'value': 'transformation',\n",
       "    'provider': 'system',\n",
       "    'timestamp': '2018-12-05T07:49:55+0100'},\n",
       "   {'id': '90660028',\n",
       "    'key': 'KBC.lastUpdatedBy.configuration.id',\n",
       "    'value': '468769589',\n",
       "    'provider': 'system',\n",
       "    'timestamp': '2018-12-05T07:49:55+0100'},\n",
       "   {'id': '90660029',\n",
       "    'key': 'KBC.lastUpdatedBy.configurationRow.id',\n",
       "    'value': '468769618',\n",
       "    'provider': 'system',\n",
       "    'timestamp': '2018-12-05T07:49:55+0100'}]},\n",
       " {'uri': 'https://connection.keboola.com/v2/storage/tables/in.c-python_test_applicants.TABLE_B',\n",
       "  'id': 'in.c-python_test_applicants.TABLE_B',\n",
       "  'name': 'TABLE_B',\n",
       "  'transactional': False,\n",
       "  'primaryKey': [],\n",
       "  'indexedColumns': [],\n",
       "  'created': '2018-12-05T07:49:58+0100',\n",
       "  'lastImportDate': '2018-12-05T07:50:11+0100',\n",
       "  'lastChangeDate': '2018-12-05T07:50:11+0100',\n",
       "  'rowsCount': 2162210,\n",
       "  'dataSizeBytes': 34849280,\n",
       "  'isAlias': False,\n",
       "  'isAliasable': True,\n",
       "  'attributes': [],\n",
       "  'metadata': [{'id': '90660330',\n",
       "    'key': 'KBC.createdBy.component.id',\n",
       "    'value': 'transformation',\n",
       "    'provider': 'system',\n",
       "    'timestamp': '2018-12-05T07:50:26+0100'},\n",
       "   {'id': '90660331',\n",
       "    'key': 'KBC.createdBy.configuration.id',\n",
       "    'value': '468769589',\n",
       "    'provider': 'system',\n",
       "    'timestamp': '2018-12-05T07:50:26+0100'},\n",
       "   {'id': '90660332',\n",
       "    'key': 'KBC.createdBy.configurationRow.id',\n",
       "    'value': '468769618',\n",
       "    'provider': 'system',\n",
       "    'timestamp': '2018-12-05T07:50:26+0100'},\n",
       "   {'id': '90660333',\n",
       "    'key': 'KBC.lastUpdatedBy.component.id',\n",
       "    'value': 'transformation',\n",
       "    'provider': 'system',\n",
       "    'timestamp': '2018-12-05T07:50:26+0100'},\n",
       "   {'id': '90660334',\n",
       "    'key': 'KBC.lastUpdatedBy.configuration.id',\n",
       "    'value': '468769589',\n",
       "    'provider': 'system',\n",
       "    'timestamp': '2018-12-05T07:50:26+0100'},\n",
       "   {'id': '90660335',\n",
       "    'key': 'KBC.lastUpdatedBy.configurationRow.id',\n",
       "    'value': '468769618',\n",
       "    'provider': 'system',\n",
       "    'timestamp': '2018-12-05T07:50:26+0100'}]}]"
      ]
     },
     "execution_count": 12,
     "metadata": {},
     "output_type": "execute_result"
    }
   ],
   "source": [
    "json_val"
   ]
  },
  {
   "cell_type": "code",
   "execution_count": 23,
   "metadata": {},
   "outputs": [
    {
     "name": "stdout",
     "output_type": "stream",
     "text": [
      "TABLE_A 2018-12-05 07:49:43 AM\n",
      "TABLE_B 2018-12-05 07:50:11 AM\n"
     ]
    }
   ],
   "source": [
    "for val in json_val:\n",
    "    #print(dict(val)[\"lastChangeDate\"])\n",
    "    d = dateutil.parser.parse(dict(val)['lastChangeDate'])\n",
    "    print(dict(val)['name'],d.strftime('%Y-%m-%d %H:%M:%S %p'))\n"
   ]
  },
  {
   "cell_type": "code",
   "execution_count": 15,
   "metadata": {},
   "outputs": [
    {
     "name": "stdout",
     "output_type": "stream",
     "text": [
      "{'uri': 'https://connection.keboola.com/v2/storage/tables/in.c-python_test_applicants.TABLE_A', 'id': 'in.c-python_test_applicants.TABLE_A', 'name': 'TABLE_A', 'transactional': False, 'primaryKey': [], 'indexedColumns': [], 'created': '2018-12-05T07:49:30+0100', 'lastImportDate': '2018-12-05T07:49:43+0100', 'lastChangeDate': '2018-12-05T07:49:43+0100', 'rowsCount': 2162210, 'dataSizeBytes': 28416000, 'isAlias': False, 'isAliasable': True, 'attributes': [], 'metadata': [{'id': '90660024', 'key': 'KBC.createdBy.component.id', 'value': 'transformation', 'provider': 'system', 'timestamp': '2018-12-05T07:49:55+0100'}, {'id': '90660025', 'key': 'KBC.createdBy.configuration.id', 'value': '468769589', 'provider': 'system', 'timestamp': '2018-12-05T07:49:55+0100'}, {'id': '90660026', 'key': 'KBC.createdBy.configurationRow.id', 'value': '468769618', 'provider': 'system', 'timestamp': '2018-12-05T07:49:55+0100'}, {'id': '90660027', 'key': 'KBC.lastUpdatedBy.component.id', 'value': 'transformation', 'provider': 'system', 'timestamp': '2018-12-05T07:49:55+0100'}, {'id': '90660028', 'key': 'KBC.lastUpdatedBy.configuration.id', 'value': '468769589', 'provider': 'system', 'timestamp': '2018-12-05T07:49:55+0100'}, {'id': '90660029', 'key': 'KBC.lastUpdatedBy.configurationRow.id', 'value': '468769618', 'provider': 'system', 'timestamp': '2018-12-05T07:49:55+0100'}]}\n",
      "Prem\n",
      "{'uri': 'https://connection.keboola.com/v2/storage/tables/in.c-python_test_applicants.TABLE_B', 'id': 'in.c-python_test_applicants.TABLE_B', 'name': 'TABLE_B', 'transactional': False, 'primaryKey': [], 'indexedColumns': [], 'created': '2018-12-05T07:49:58+0100', 'lastImportDate': '2018-12-05T07:50:11+0100', 'lastChangeDate': '2018-12-05T07:50:11+0100', 'rowsCount': 2162210, 'dataSizeBytes': 34849280, 'isAlias': False, 'isAliasable': True, 'attributes': [], 'metadata': [{'id': '90660330', 'key': 'KBC.createdBy.component.id', 'value': 'transformation', 'provider': 'system', 'timestamp': '2018-12-05T07:50:26+0100'}, {'id': '90660331', 'key': 'KBC.createdBy.configuration.id', 'value': '468769589', 'provider': 'system', 'timestamp': '2018-12-05T07:50:26+0100'}, {'id': '90660332', 'key': 'KBC.createdBy.configurationRow.id', 'value': '468769618', 'provider': 'system', 'timestamp': '2018-12-05T07:50:26+0100'}, {'id': '90660333', 'key': 'KBC.lastUpdatedBy.component.id', 'value': 'transformation', 'provider': 'system', 'timestamp': '2018-12-05T07:50:26+0100'}, {'id': '90660334', 'key': 'KBC.lastUpdatedBy.configuration.id', 'value': '468769589', 'provider': 'system', 'timestamp': '2018-12-05T07:50:26+0100'}, {'id': '90660335', 'key': 'KBC.lastUpdatedBy.configurationRow.id', 'value': '468769618', 'provider': 'system', 'timestamp': '2018-12-05T07:50:26+0100'}]}\n",
      "Prem\n"
     ]
    }
   ],
   "source": [
    "for val in json_val:\n",
    "    print(val)\n",
    "    print(\"Prem\")"
   ]
  },
  {
   "cell_type": "code",
   "execution_count": 18,
   "metadata": {},
   "outputs": [],
   "source": [
    "d={\"jane\":2000,\"prem\":2300}"
   ]
  },
  {
   "cell_type": "code",
   "execution_count": 19,
   "metadata": {},
   "outputs": [
    {
     "data": {
      "text/plain": [
       "2000"
      ]
     },
     "execution_count": 19,
     "metadata": {},
     "output_type": "execute_result"
    }
   ],
   "source": [
    "d[\"jane\"]"
   ]
  },
  {
   "cell_type": "code",
   "execution_count": 20,
   "metadata": {},
   "outputs": [
    {
     "data": {
      "text/plain": [
       "2300"
      ]
     },
     "execution_count": 20,
     "metadata": {},
     "output_type": "execute_result"
    }
   ],
   "source": [
    "d[\"prem\"]"
   ]
  },
  {
   "cell_type": "code",
   "execution_count": 24,
   "metadata": {},
   "outputs": [
    {
     "data": {
      "text/plain": [
       "{'uri': 'https://connection.keboola.com/v2/storage/tables/in.c-python_test_applicants.TABLE_B',\n",
       " 'id': 'in.c-python_test_applicants.TABLE_B',\n",
       " 'name': 'TABLE_B',\n",
       " 'transactional': False,\n",
       " 'primaryKey': [],\n",
       " 'indexedColumns': [],\n",
       " 'created': '2018-12-05T07:49:58+0100',\n",
       " 'lastImportDate': '2018-12-05T07:50:11+0100',\n",
       " 'lastChangeDate': '2018-12-05T07:50:11+0100',\n",
       " 'rowsCount': 2162210,\n",
       " 'dataSizeBytes': 34849280,\n",
       " 'isAlias': False,\n",
       " 'isAliasable': True,\n",
       " 'attributes': [],\n",
       " 'metadata': [{'id': '90660330',\n",
       "   'key': 'KBC.createdBy.component.id',\n",
       "   'value': 'transformation',\n",
       "   'provider': 'system',\n",
       "   'timestamp': '2018-12-05T07:50:26+0100'},\n",
       "  {'id': '90660331',\n",
       "   'key': 'KBC.createdBy.configuration.id',\n",
       "   'value': '468769589',\n",
       "   'provider': 'system',\n",
       "   'timestamp': '2018-12-05T07:50:26+0100'},\n",
       "  {'id': '90660332',\n",
       "   'key': 'KBC.createdBy.configurationRow.id',\n",
       "   'value': '468769618',\n",
       "   'provider': 'system',\n",
       "   'timestamp': '2018-12-05T07:50:26+0100'},\n",
       "  {'id': '90660333',\n",
       "   'key': 'KBC.lastUpdatedBy.component.id',\n",
       "   'value': 'transformation',\n",
       "   'provider': 'system',\n",
       "   'timestamp': '2018-12-05T07:50:26+0100'},\n",
       "  {'id': '90660334',\n",
       "   'key': 'KBC.lastUpdatedBy.configuration.id',\n",
       "   'value': '468769589',\n",
       "   'provider': 'system',\n",
       "   'timestamp': '2018-12-05T07:50:26+0100'},\n",
       "  {'id': '90660335',\n",
       "   'key': 'KBC.lastUpdatedBy.configurationRow.id',\n",
       "   'value': '468769618',\n",
       "   'provider': 'system',\n",
       "   'timestamp': '2018-12-05T07:50:26+0100'}]}"
      ]
     },
     "execution_count": 24,
     "metadata": {},
     "output_type": "execute_result"
    }
   ],
   "source": [
    "{'uri': 'https://connection.keboola.com/v2/storage/tables/in.c-python_test_applicants.TABLE_B', 'id': 'in.c-python_test_applicants.TABLE_B', 'name': 'TABLE_B', 'transactional': False, 'primaryKey': [], 'indexedColumns': [], 'created': '2018-12-05T07:49:58+0100', 'lastImportDate': '2018-12-05T07:50:11+0100', 'lastChangeDate': '2018-12-05T07:50:11+0100', 'rowsCount': 2162210, 'dataSizeBytes': 34849280, 'isAlias': False, 'isAliasable': True, 'attributes': [], 'metadata': [{'id': '90660330', 'key': 'KBC.createdBy.component.id', 'value': 'transformation', 'provider': 'system', 'timestamp': '2018-12-05T07:50:26+0100'}, {'id': '90660331', 'key': 'KBC.createdBy.configuration.id', 'value': '468769589', 'provider': 'system', 'timestamp': '2018-12-05T07:50:26+0100'}, {'id': '90660332', 'key': 'KBC.createdBy.configurationRow.id', 'value': '468769618', 'provider': 'system', 'timestamp': '2018-12-05T07:50:26+0100'}, {'id': '90660333', 'key': 'KBC.lastUpdatedBy.component.id', 'value': 'transformation', 'provider': 'system', 'timestamp': '2018-12-05T07:50:26+0100'}, {'id': '90660334', 'key': 'KBC.lastUpdatedBy.configuration.id', 'value': '468769589', 'provider': 'system', 'timestamp': '2018-12-05T07:50:26+0100'}, {'id': '90660335', 'key': 'KBC.lastUpdatedBy.configurationRow.id', 'value': '468769618', 'provider': 'system', 'timestamp': '2018-12-05T07:50:26+0100'}]}"
   ]
  },
  {
   "cell_type": "code",
   "execution_count": 29,
   "metadata": {},
   "outputs": [],
   "source": [
    "a=\"s_suppkey | s_name | s_nationkey | s_phone | s_acctbal | s_comment\"\n",
    "from barnum import gen_data\n",
    "\n",
    "pip install "
   ]
  },
  {
   "cell_type": "markdown",
   "metadata": {},
   "source": [
    "t=\"insert into  supplier (s_suppkey ,s_name ,s_nationkey ,s_phone ,s_acctbal ,s_comment) values\"\n",
    "\"\"\n",
    "value=2\n",
    "for i in range(1,value):\n",
    "    s_suppkey=i\n",
    "    s_name=gen_data.create_name(full_name=False)\n",
    "    s_nationkey=random.randrange(1, 18)\n",
    "    s_phone=random.randrange(9412648647, 9612648647)\n",
    "    s_acctbal=random.randrange(1000, 12000)\n",
    "    s_comment=\"abn\"\n",
    "    if i==value-1:\n",
    "        a= \"({},'{}'',{},{},{},'{}')\".format(s_suppkey ,s_name ,s_nationkey ,s_phone ,s_acctbal ,s_comment)\n",
    "    else:\n",
    "         a= \"({},'{}'',{},{},{},'{}'),\".format(s_suppkey ,s_name ,s_nationkey ,s_phone ,s_acctbal ,s_comment)\n",
    "    t=t+a"
   ]
  },
  {
   "cell_type": "code",
   "execution_count": 61,
   "metadata": {},
   "outputs": [
    {
     "data": {
      "text/plain": [
       "'insert into  supplier (s_suppkey ,s_name ,s_nationkey ,s_phone ,s_acctbal ,s_comment) values'"
      ]
     },
     "execution_count": 61,
     "metadata": {},
     "output_type": "execute_result"
    }
   ],
   "source": [
    "t"
   ]
  },
  {
   "cell_type": "code",
   "execution_count": 68,
   "metadata": {},
   "outputs": [],
   "source": [
    "t=\"insert into  supplier (s_suppkey ,s_name ,s_nationkey ,s_phone ,s_acctbal ,s_comment) values\"\n",
    "value=300\n",
    "for i in range(2,value):\n",
    "    \n",
    "    s_suppkey=i\n",
    "    s_name=gen_data.create_name(full_name=False)\n",
    "    s_nationkey=random.randrange(1, 18)\n",
    "    s_phone=random.randrange(9412648647, 9612648647)\n",
    "    s_acctbal=random.randrange(1000, 12000)\n",
    "    s_comment=\"abn\"\n",
    "    if i==value-1:\n",
    "        a= \"({},'{}',{},{},{},'{}')\".format(s_suppkey ,s_name ,s_nationkey ,s_phone ,s_acctbal ,s_comment)\n",
    "    else:\n",
    "         a= \"({},'{}',{},{},{},'{}'),\".format(s_suppkey ,s_name ,s_nationkey ,s_phone ,s_acctbal ,s_comment)\n",
    "    t=t+a"
   ]
  },
  {
   "cell_type": "code",
   "execution_count": 69,
   "metadata": {},
   "outputs": [
    {
     "data": {
      "text/plain": [
       "\"insert into  supplier (s_suppkey ,s_name ,s_nationkey ,s_phone ,s_acctbal ,s_comment) values(2,'Mac',16,9423377226,1707,'abn'),(3,'Aura',12,9556174300,3530,'abn'),(4,'Kellie',7,9558746934,3836,'abn'),(5,'German',14,9510581916,4106,'abn'),(6,'Rusty',1,9477731879,2369,'abn'),(7,'Young',14,9439336167,2166,'abn'),(8,'Marla',10,9521571886,11434,'abn'),(9,'German',2,9484144718,1558,'abn'),(10,'Ashley',1,9544013724,2097,'abn'),(11,'Kyle',9,9570290957,8260,'abn'),(12,'Pat',14,9477007352,2627,'abn'),(13,'Jonah',10,9448999551,10173,'abn'),(14,'Juliet',10,9528165072,11387,'abn'),(15,'Pattie',12,9523997921,9184,'abn'),(16,'Leota',5,9508435330,8098,'abn'),(17,'Angelo',4,9553231356,8035,'abn'),(18,'Ronnie',15,9571926042,1067,'abn'),(19,'Cherie',11,9555477980,9186,'abn'),(20,'Hattie',7,9484261493,11846,'abn'),(21,'Delbert',10,9459664315,6338,'abn'),(22,'Crystal',15,9435697512,4305,'abn'),(23,'Tyron',17,9419294446,10910,'abn'),(24,'Winnie',5,9433404852,4517,'abn'),(25,'Bo',12,9562110257,3647,'abn'),(26,'Alejandro',8,9609434693,6307,'abn'),(27,'Jean',14,9431443698,3602,'abn'),(28,'Genevieve',9,9469512533,3706,'abn'),(29,'Janine',10,9423771326,11441,'abn'),(30,'Kendrick',13,9440276751,2960,'abn'),(31,'Sterling',15,9591340133,1743,'abn'),(32,'Margaret',8,9485505900,9781,'abn'),(33,'Rosemary',1,9534079045,11421,'abn'),(34,'Lenard',5,9413940444,4772,'abn'),(35,'Jeannette',15,9452169166,11145,'abn'),(36,'Velma',1,9500912852,9215,'abn'),(37,'Shari',11,9547645986,5028,'abn'),(38,'Georgina',9,9504230585,2784,'abn'),(39,'Giovanni',3,9499726810,5181,'abn'),(40,'Noemi',5,9568231961,5998,'abn'),(41,'Irene',6,9573931485,8726,'abn'),(42,'Carey',13,9524116142,10068,'abn'),(43,'Kristie',17,9474653469,5415,'abn'),(44,'Gertrude',15,9560979224,6585,'abn'),(45,'Saundra',2,9566202945,3546,'abn'),(46,'Maya',11,9443243753,2172,'abn'),(47,'Antony',17,9604341924,4903,'abn'),(48,'Etta',10,9415756421,10326,'abn'),(49,'Michale',17,9445943531,10112,'abn'),(50,'Kristopher',9,9577032882,7904,'abn'),(51,'Meagan',7,9550806261,5772,'abn'),(52,'Lou',14,9429901901,9842,'abn'),(53,'Alfonso',11,9503651751,7668,'abn'),(54,'Corina',11,9499413592,7721,'abn'),(55,'Eugenio',3,9565476320,10483,'abn'),(56,'Frederick',8,9445406120,7756,'abn'),(57,'Becky',11,9501619984,7130,'abn'),(58,'Arlie',4,9424669335,11629,'abn'),(59,'Daryl',1,9549438686,11901,'abn'),(60,'Fredric',9,9433241570,8927,'abn'),(61,'Lorene',5,9433127324,8473,'abn'),(62,'Muriel',14,9605629860,11106,'abn'),(63,'Ellis',17,9566432434,8835,'abn'),(64,'Tommie',13,9537164612,4283,'abn'),(65,'Mckinley',12,9459087087,9546,'abn'),(66,'Yong',11,9599056693,2259,'abn'),(67,'Ora',14,9605795461,10760,'abn'),(68,'Norbert',11,9481509377,3068,'abn'),(69,'Louisa',6,9563903954,8539,'abn'),(70,'Pablo',1,9499818959,6393,'abn'),(71,'Alyson',15,9551028494,11484,'abn'),(72,'Valentina',14,9572738535,11977,'abn'),(73,'Katelyn',9,9470379637,7132,'abn'),(74,'Luigi',9,9475912411,9850,'abn'),(75,'Antonette',7,9601174048,5720,'abn'),(76,'Dollie',13,9459650380,4489,'abn'),(77,'Darin',10,9553070182,2272,'abn'),(78,'Marcellus',4,9560681288,7260,'abn'),(79,'Otto',13,9430352371,1747,'abn'),(80,'Angelo',12,9598659516,3236,'abn'),(81,'Nakia',9,9488871049,4703,'abn'),(82,'Thad',1,9543641335,1124,'abn'),(83,'Violeta',4,9580542831,7176,'abn'),(84,'Efrain',11,9517204511,11514,'abn'),(85,'Christy',13,9527539938,9064,'abn'),(86,'Susanne',16,9513331729,9076,'abn'),(87,'Winnie',9,9459478129,8339,'abn'),(88,'Fannie',14,9555630918,7321,'abn'),(89,'Jacinto',16,9531441152,1368,'abn'),(90,'Suzette',11,9451090488,7900,'abn'),(91,'Jerrold',14,9560587299,3165,'abn'),(92,'Ray',10,9561523766,2914,'abn'),(93,'Rusty',11,9579854339,11433,'abn'),(94,'Nancy',17,9529625044,2210,'abn'),(95,'Keneth',2,9596177331,9916,'abn'),(96,'Natalia',1,9507117592,10082,'abn'),(97,'Roslyn',3,9497218713,4285,'abn'),(98,'Erwin',15,9525713472,9121,'abn'),(99,'Kristofer',9,9559700105,1666,'abn'),(100,'Johnathan',9,9494785057,1162,'abn'),(101,'Fatima',10,9588687405,6320,'abn'),(102,'Adeline',16,9522234947,3586,'abn'),(103,'Shane',11,9534409153,9725,'abn'),(104,'Hobert',1,9561206704,9331,'abn'),(105,'Brice',7,9559130315,6342,'abn'),(106,'Toby',10,9584453650,4411,'abn'),(107,'Rickey',10,9503984995,10490,'abn'),(108,'Bobbie',4,9505690422,3561,'abn'),(109,'Trena',12,9504712495,3308,'abn'),(110,'Lorraine',11,9468187334,8189,'abn'),(111,'Joan',4,9586016724,8829,'abn'),(112,'Jamison',4,9528388542,2921,'abn'),(113,'Enoch',14,9558163244,10878,'abn'),(114,'Kathie',8,9515305759,3682,'abn'),(115,'Agnes',14,9495974592,6882,'abn'),(116,'Hayden',7,9458112626,2831,'abn'),(117,'Brain',7,9518647303,6534,'abn'),(118,'Bettye',10,9487726318,2293,'abn'),(119,'Santiago',2,9603587935,8262,'abn'),(120,'Teresa',17,9464918655,9154,'abn'),(121,'Jesse',4,9452851606,9809,'abn'),(122,'Eloy',6,9526816946,1684,'abn'),(123,'Marlena',16,9526653928,6998,'abn'),(124,'Jessie',7,9590299015,5854,'abn'),(125,'Benjamin',5,9416323394,7311,'abn'),(126,'Reyes',15,9577881302,6368,'abn'),(127,'Isabel',6,9559011314,11397,'abn'),(128,'Tricia',17,9523034789,3251,'abn'),(129,'Denice',17,9416587260,3794,'abn'),(130,'Aline',2,9505489028,2075,'abn'),(131,'Barrett',12,9424289928,1332,'abn'),(132,'Salvatore',13,9593851342,3489,'abn'),(133,'Buford',3,9527441070,10235,'abn'),(134,'Elwood',3,9515507683,3172,'abn'),(135,'Celestine',10,9532716515,1649,'abn'),(136,'Emma',15,9530730092,8175,'abn'),(137,'Adele',3,9482626363,8708,'abn'),(138,'Desiree',2,9493354061,8591,'abn'),(139,'Caryn',17,9422262893,4473,'abn'),(140,'Darrell',6,9450383853,7889,'abn'),(141,'Catina',2,9454350762,3360,'abn'),(142,'Jude',5,9598749959,2484,'abn'),(143,'Pedro',3,9502079642,10827,'abn'),(144,'Mariano',10,9467055446,1047,'abn'),(145,'Ronnie',13,9526737479,2644,'abn'),(146,'Brad',17,9520587944,1008,'abn'),(147,'Jasmin',10,9498059780,6149,'abn'),(148,'Shelly',15,9459556273,1982,'abn'),(149,'Dave',15,9417389934,9005,'abn'),(150,'Arline',7,9604796295,2248,'abn'),(151,'Raven',7,9597749701,10299,'abn'),(152,'Napoleon',13,9574780984,2871,'abn'),(153,'Andre',12,9471680988,6477,'abn'),(154,'Norberto',12,9540489155,6545,'abn'),(155,'Andreas',16,9553971670,11739,'abn'),(156,'Retha',7,9548847025,7621,'abn'),(157,'Mabel',4,9577654282,9214,'abn'),(158,'Alene',17,9586937939,1933,'abn'),(159,'Tyler',4,9538350711,10698,'abn'),(160,'Leo',13,9545663795,10354,'abn'),(161,'Dion',8,9433842744,4819,'abn'),(162,'Jeremiah',12,9465215224,9386,'abn'),(163,'Brett',4,9498858170,9518,'abn'),(164,'Lawerence',14,9450682446,1291,'abn'),(165,'Marilynn',17,9569551577,11629,'abn'),(166,'Reggie',3,9470962462,7091,'abn'),(167,'Lance',8,9592360714,5859,'abn'),(168,'Lucy',12,9594711892,8578,'abn'),(169,'Eleanor',12,9439522665,1798,'abn'),(170,'Beryl',5,9487440364,2776,'abn'),(171,'Kendrick',11,9449715125,1521,'abn'),(172,'Lynette',10,9441174132,2478,'abn'),(173,'Gabriella',1,9450377918,2053,'abn'),(174,'Kirk',15,9449359505,5733,'abn'),(175,'Phillis',8,9544774074,8365,'abn'),(176,'Nell',7,9549209264,11929,'abn'),(177,'Tena',5,9476893577,2289,'abn'),(178,'Stephanie',12,9482942880,5753,'abn'),(179,'Leonard',11,9443910273,8992,'abn'),(180,'Amalia',3,9560979078,2267,'abn'),(181,'Kendrick',14,9424590406,2657,'abn'),(182,'Modesto',17,9510276677,7597,'abn'),(183,'Audra',1,9427485455,11082,'abn'),(184,'Cletus',6,9486325613,11881,'abn'),(185,'Vincent',11,9448662006,4836,'abn'),(186,'Anton',5,9541415580,8482,'abn'),(187,'Gabrielle',16,9487716574,3541,'abn'),(188,'Nell',9,9480126638,2055,'abn'),(189,'Forest',10,9603895971,8651,'abn'),(190,'Cameron',4,9412845712,5858,'abn'),(191,'Louise',7,9512265110,7878,'abn'),(192,'Antwan',15,9543604331,11604,'abn'),(193,'Leah',5,9576126553,3842,'abn'),(194,'Rick',1,9605934522,11006,'abn'),(195,'Nathan',4,9539968210,3699,'abn'),(196,'Michelle',2,9437920158,7746,'abn'),(197,'Bradly',15,9593100339,10727,'abn'),(198,'Wendi',2,9582128244,5229,'abn'),(199,'Abraham',3,9605765502,3471,'abn'),(200,'Reggie',15,9497545395,8838,'abn'),(201,'Darius',2,9514296082,7200,'abn'),(202,'Diann',12,9501444654,11749,'abn'),(203,'Wyatt',16,9471622347,7045,'abn'),(204,'Danna',7,9538201043,8827,'abn'),(205,'Delmar',5,9606622911,10430,'abn'),(206,'Timothy',16,9471068038,4515,'abn'),(207,'Felipe',14,9539104024,3066,'abn'),(208,'Joey',12,9542859001,8352,'abn'),(209,'Valencia',15,9483205133,11293,'abn'),(210,'Ariel',3,9457231502,4942,'abn'),(211,'Jannette',5,9425593767,1422,'abn'),(212,'Rey',1,9486457931,6378,'abn'),(213,'Cathleen',11,9495932051,9162,'abn'),(214,'Mikel',15,9452525508,3637,'abn'),(215,'Sharla',4,9447310049,3153,'abn'),(216,'Allison',15,9566116487,3566,'abn'),(217,'Everett',6,9466036501,9563,'abn'),(218,'Britt',16,9440693063,2350,'abn'),(219,'Joshua',2,9431860808,4399,'abn'),(220,'Helen',17,9581354656,6808,'abn'),(221,'Josef',14,9571385529,10098,'abn'),(222,'Judith',17,9553838677,10936,'abn'),(223,'Gertie',10,9520723468,8634,'abn'),(224,'Vince',11,9543894244,2322,'abn'),(225,'Tessa',9,9533737876,11686,'abn'),(226,'Simon',11,9484120847,6517,'abn'),(227,'Kent',11,9499273221,1940,'abn'),(228,'Tania',16,9461237861,8550,'abn'),(229,'Tomasa',14,9539200539,6091,'abn'),(230,'Sherrie',13,9445550960,11470,'abn'),(231,'Rosetta',1,9428597900,4058,'abn'),(232,'Frederick',3,9527547007,10933,'abn'),(233,'Mariana',6,9426389249,11118,'abn'),(234,'Pat',8,9532206155,3637,'abn'),(235,'Ashleigh',6,9439548174,8360,'abn'),(236,'Deshawn',14,9567927493,7540,'abn'),(237,'Garry',5,9427932636,6696,'abn'),(238,'Tameka',17,9487706236,4739,'abn'),(239,'Lyle',14,9431430325,6173,'abn'),(240,'Shelby',6,9605614786,8684,'abn'),(241,'Lona',16,9522182503,10444,'abn'),(242,'Willy',9,9539376961,2297,'abn'),(243,'Huey',16,9517484410,10417,'abn'),(244,'Hilton',6,9512254458,3932,'abn'),(245,'Lawerence',11,9600016784,5405,'abn'),(246,'Bruce',5,9544909299,1611,'abn'),(247,'Roxanna',1,9434086186,2529,'abn'),(248,'Kristal',15,9585175504,4333,'abn'),(249,'Len',5,9505741944,6072,'abn'),(250,'Leo',1,9587514758,9000,'abn'),(251,'Ernestina',15,9595935368,8662,'abn'),(252,'Albert',3,9584402200,6929,'abn'),(253,'Vernice',12,9563832426,6346,'abn'),(254,'Martina',5,9524938599,4798,'abn'),(255,'Trent',15,9489619269,3905,'abn'),(256,'Guadalupe',17,9527697936,8309,'abn'),(257,'Brice',15,9589344158,10515,'abn'),(258,'Rowena',16,9522804526,2062,'abn'),(259,'Celia',3,9582871735,10231,'abn'),(260,'Adolfo',7,9599475364,9115,'abn'),(261,'Christen',12,9486538399,6497,'abn'),(262,'Wallace',6,9515907933,5203,'abn'),(263,'Kylie',10,9442162137,6987,'abn'),(264,'Dara',3,9611612620,7473,'abn'),(265,'Kennith',6,9522738013,1669,'abn'),(266,'Kirk',6,9469444216,5619,'abn'),(267,'Jordon',7,9608981926,1909,'abn'),(268,'Brandie',17,9500346111,2437,'abn'),(269,'Norris',7,9505087682,3369,'abn'),(270,'Bryan',16,9487889672,8290,'abn'),(271,'Trena',17,9508398941,2864,'abn'),(272,'Ginny',15,9494808470,3271,'abn'),(273,'Madge',6,9548945244,7604,'abn'),(274,'Shelton',12,9506550106,10568,'abn'),(275,'Jamel',13,9534646051,5839,'abn'),(276,'Randal',17,9538029294,4492,'abn'),(277,'Paulette',7,9540253167,9513,'abn'),(278,'Jayson',12,9465265040,2795,'abn'),(279,'Imelda',11,9543049617,8913,'abn'),(280,'Damion',17,9425668579,8716,'abn'),(281,'Lavern',4,9522007963,3893,'abn'),(282,'Rickie',16,9456012939,5537,'abn'),(283,'Logan',13,9446868515,1981,'abn'),(284,'Jenny',16,9588858889,10187,'abn'),(285,'Rodolfo',2,9429029433,1921,'abn'),(286,'Aurelia',14,9547548347,8571,'abn'),(287,'Jacquline',8,9527816576,3080,'abn'),(288,'Loren',4,9591457337,10039,'abn'),(289,'Marcus',4,9512481034,9124,'abn'),(290,'Rosina',15,9536777757,1179,'abn'),(291,'Kate',7,9602534889,1994,'abn'),(292,'Alison',2,9433897984,5099,'abn'),(293,'Lawanda',16,9602412658,2443,'abn'),(294,'Johnnie',7,9579613368,1304,'abn'),(295,'Racheal',11,9519990713,9683,'abn'),(296,'Paulette',4,9457359648,4360,'abn'),(297,'Bonnie',12,9500962046,1203,'abn'),(298,'Cornelius',8,9478061154,7433,'abn'),(299,'Sol',17,9462495034,4996,'abn')\""
      ]
     },
     "execution_count": 69,
     "metadata": {},
     "output_type": "execute_result"
    }
   ],
   "source": [
    "t"
   ]
  },
  {
   "cell_type": "code",
   "execution_count": null,
   "metadata": {},
   "outputs": [],
   "source": [
    "t=\"insert into  part ( p_partkey , p_name , p_mfgr , p_type , p_size , p_container , p_retailprice , comment ) values\"\n",
    "value=300\n",
    "for i in range(2,value):\n",
    "    \n",
    "    p_partkey=i\n",
    "    p_name=gen_data.create_name(full_name=False)\n",
    "    p_mfgr=random.randrange(1, 4)\n",
    "    p_type=random.randrange(1, 4\n",
    "    p_container=random.randrange(1, 4\n",
    "    p_retailprice=random.randrange(1000, 12000)\n",
    "    p_comment=\"abn\"\n",
    "    if i==value-1:\n",
    "        a= \"({},'{}',{},{},{},'{}')\".format(s_suppkey ,s_name ,s_nationkey ,s_phone ,s_acctbal ,s_comment)\n",
    "    else:\n",
    "         a= \"({},'{}',{},{},{},'{}'),\".format(s_suppkey ,s_name ,s_nationkey ,s_phone ,s_acctbal ,s_comment)\n",
    "    t=t+a"
   ]
  }
 ],
 "metadata": {
  "kernelspec": {
   "display_name": "Python 3",
   "language": "python",
   "name": "python3"
  },
  "language_info": {
   "codemirror_mode": {
    "name": "ipython",
    "version": 3
   },
   "file_extension": ".py",
   "mimetype": "text/x-python",
   "name": "python",
   "nbconvert_exporter": "python",
   "pygments_lexer": "ipython3",
   "version": "3.7.1"
  }
 },
 "nbformat": 4,
 "nbformat_minor": 2
}
