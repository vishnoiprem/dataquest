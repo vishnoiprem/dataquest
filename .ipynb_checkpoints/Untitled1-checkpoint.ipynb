{
 "cells": [
  {
   "cell_type": "code",
   "execution_count": 3,
   "metadata": {},
   "outputs": [],
   "source": [
    "import numpy as np \n",
    "\n",
    "def calc_MI(X,Y,bins):\n",
    "\n",
    "    c_XY = np.histogram2d(X,Y,bins)[0]\n",
    "    c_X = np.histogram(X,bins)[0]\n",
    "    c_Y = np.histogram(Y,bins)[0]\n",
    "\n",
    "    H_X = shan_entropy(c_X)\n",
    "    H_Y = shan_entropy(c_Y)\n",
    "    H_XY = shan_entropy(c_XY)\n",
    "\n",
    "    MI = H_XY - H_X - H_Y\n",
    "    return MI\n",
    "\n",
    "def shan_entropy(c):\n",
    "    c_normalized = c / float(np.sum(c))\n",
    "    c_normalized = c_normalized[np.nonzero(c_normalized)]\n",
    "    H = -sum(c_normalized* np.log2(c_normalized))  \n",
    "    return H\n",
    "\n",
    "\n",
    "def mutual_information(arr):\n",
    "    bins = 5 # ?\n",
    "    n = arr.shape[1]\n",
    "    matMI = np.zeros((n, n))\n",
    "\n",
    "    for ix in np.arange(n):\n",
    "        for jx in np.arange(ix+1,n):\n",
    "            matMI[ix,jx] = calc_MI(arr[:,ix], arr[:,jx], bins)\n",
    "    return matMI"
   ]
  },
  {
   "cell_type": "code",
   "execution_count": null,
   "metadata": {},
   "outputs": [],
   "source": []
  }
 ],
 "metadata": {
  "kernelspec": {
   "display_name": "Python 3",
   "language": "python",
   "name": "python3"
  },
  "language_info": {
   "codemirror_mode": {
    "name": "ipython",
    "version": 3
   },
   "file_extension": ".py",
   "mimetype": "text/x-python",
   "name": "python",
   "nbconvert_exporter": "python",
   "pygments_lexer": "ipython3",
   "version": "3.7.1"
  }
 },
 "nbformat": 4,
 "nbformat_minor": 2
}
