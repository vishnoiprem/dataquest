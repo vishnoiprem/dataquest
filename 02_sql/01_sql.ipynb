{
 "cells": [
  {
   "cell_type": "code",
   "execution_count": 11,
   "metadata": {},
   "outputs": [],
   "source": [
    "import psycopg2\n"
   ]
  },
  {
   "cell_type": "code",
   "execution_count": 12,
   "metadata": {},
   "outputs": [],
   "source": [
    "conn = psycopg2.connect(\"dbname=postgres user=postgres\")\n",
    "cur = conn.cursor"
   ]
  },
  {
   "cell_type": "code",
   "execution_count": 13,
   "metadata": {},
   "outputs": [
    {
     "data": {
      "text/plain": [
       "<connection object at 0x10ad4e6b0; dsn: 'dbname=postgres user=postgres', closed: 0>"
      ]
     },
     "execution_count": 13,
     "metadata": {},
     "output_type": "execute_result"
    }
   ],
   "source": [
    "conn"
   ]
  },
  {
   "cell_type": "raw",
   "metadata": {},
   "source": [
    "Import the psycopg2 library.\n",
    "Connect to the dq database with the user dq.\n",
    "Initialize a Cursor object from the connection.\n",
    "Use the print function to display the Cursor object.\n",
    "Close the Connection using the close method."
   ]
  },
  {
   "cell_type": "code",
   "execution_count": 14,
   "metadata": {},
   "outputs": [],
   "source": [
    "dq=psycopg2.connect(\"dbname=dq user=dq\")"
   ]
  },
  {
   "cell_type": "code",
   "execution_count": 15,
   "metadata": {},
   "outputs": [],
   "source": [
    "#create user dq with encrypted password 'dq';\n",
    "#CREATE DATABASE dq;\n"
   ]
  },
  {
   "cell_type": "code",
   "execution_count": 16,
   "metadata": {},
   "outputs": [],
   "source": [
    "dq=psycopg2.connect(\"dbname=dq user=dq\")\n",
    "cur=dq.cursor\n",
    "dq.close()"
   ]
  },
  {
   "cell_type": "code",
   "execution_count": 17,
   "metadata": {},
   "outputs": [
    {
     "ename": "ProgrammingError",
     "evalue": "relation \"notes\" does not exist\nLINE 1: SELECT * FROM notes;\n                      ^\n",
     "output_type": "error",
     "traceback": [
      "\u001b[0;31m---------------------------------------------------------------------------\u001b[0m",
      "\u001b[0;31mProgrammingError\u001b[0m                          Traceback (most recent call last)",
      "\u001b[0;32m<ipython-input-17-a9339e1ad936>\u001b[0m in \u001b[0;36m<module>\u001b[0;34m\u001b[0m\n\u001b[1;32m      1\u001b[0m \u001b[0mconn\u001b[0m \u001b[0;34m=\u001b[0m \u001b[0mpsycopg2\u001b[0m\u001b[0;34m.\u001b[0m\u001b[0mconnect\u001b[0m\u001b[0;34m(\u001b[0m\u001b[0;34m\"dbname=dq user=dq\"\u001b[0m\u001b[0;34m)\u001b[0m\u001b[0;34m\u001b[0m\u001b[0;34m\u001b[0m\u001b[0m\n\u001b[1;32m      2\u001b[0m \u001b[0mcur\u001b[0m \u001b[0;34m=\u001b[0m \u001b[0mconn\u001b[0m\u001b[0;34m.\u001b[0m\u001b[0mcursor\u001b[0m\u001b[0;34m(\u001b[0m\u001b[0;34m)\u001b[0m\u001b[0;34m\u001b[0m\u001b[0;34m\u001b[0m\u001b[0m\n\u001b[0;32m----> 3\u001b[0;31m \u001b[0mcur\u001b[0m\u001b[0;34m.\u001b[0m\u001b[0mexecute\u001b[0m\u001b[0;34m(\u001b[0m\u001b[0;34m\"SELECT * FROM notes;\"\u001b[0m\u001b[0;34m)\u001b[0m\u001b[0;34m\u001b[0m\u001b[0;34m\u001b[0m\u001b[0m\n\u001b[0m\u001b[1;32m      4\u001b[0m \u001b[0;34m\u001b[0m\u001b[0m\n",
      "\u001b[0;31mProgrammingError\u001b[0m: relation \"notes\" does not exist\nLINE 1: SELECT * FROM notes;\n                      ^\n"
     ]
    }
   ],
   "source": [
    "conn = psycopg2.connect(\"dbname=dq user=dq\")\n",
    "cur = conn.cursor()\n",
    "cur.execute(\"SELECT * FROM notes;\")\n",
    "\n"
   ]
  },
  {
   "cell_type": "raw",
   "metadata": {},
   "source": [
    "CREATE TABLE tableName(\n",
    "   column1 dataType1 PRIMARY KEY,\n",
    "   column2 dataType2,\n",
    "   column3 dataType3,\n",
    ");"
   ]
  },
  {
   "cell_type": "markdown",
   "metadata": {},
   "source": [
    "# https://www.tutorialspoint.com/postgresql/postgresql_create_database.htm"
   ]
  },
  {
   "cell_type": "markdown",
   "metadata": {},
   "source": [
    "Connect to the dq database as the user dq\n",
    "Write a SQL query that creates a table called notes in the dq database, with the following columns and data types:\n",
    "id -- integer data type, and is a primary key.\n",
    "body -- text data type.\n",
    "title -- text data type.\n",
    "Execute the query using the execute method.\n",
    "Close the Connection using the close method."
   ]
  },
  {
   "cell_type": "raw",
   "metadata": {},
   "source": [
    "create table notes\n",
    "(\n",
    "id integer primary key\n",
    ",body text \n",
    ",title text\n",
    ")"
   ]
  },
  {
   "cell_type": "code",
   "execution_count": 18,
   "metadata": {},
   "outputs": [],
   "source": [
    "conn = psycopg2.connect(\"dbname=dq user=dq\")\n",
    "cur = conn.cursor()\n",
    "cur.execute(\"create table notes \\\n",
    "( \\\n",
    "id integer primary key \\\n",
    ",body text \\\n",
    ",title text \\\n",
    ");\"\\\n",
    ")\n",
    "\n",
    "cur.execute(\"SELECT * FROM notes;\")\n"
   ]
  },
  {
   "cell_type": "code",
   "execution_count": 19,
   "metadata": {},
   "outputs": [],
   "source": [
    "cur.execute(\"SELECT * FROM notes;\")\n"
   ]
  },
  {
   "cell_type": "code",
   "execution_count": 20,
   "metadata": {},
   "outputs": [],
   "source": [
    "conn = psycopg2.connect(\"dbname=dq user=dq\")\n",
    "cur = conn.cursor()\n",
    "cur.execute(\"create table notes \\\n",
    "( \\\n",
    "id integer primary key \\\n",
    ",body text \\\n",
    ",title text \\\n",
    ");\"\n",
    ")\n",
    "cur.execute(\"SELECT * FROM notes;\")\n",
    "cur.close()"
   ]
  },
  {
   "cell_type": "code",
   "execution_count": 21,
   "metadata": {},
   "outputs": [],
   "source": [
    "#select * from recent_grads limit 10"
   ]
  },
  {
   "cell_type": "raw",
   "metadata": {},
   "source": [
    "Write a SQL query that returns the majors where females were a minority.\n",
    "Only return the Major and ShareWomen columns (in that order) and don't limit the number of rows returned."
   ]
  },
  {
   "cell_type": "code",
   "execution_count": null,
   "metadata": {},
   "outputs": [],
   "source": [
    "#select majors, ShareWomen from recent_grads where Sharewomen<.50;"
   ]
  },
  {
   "cell_type": "markdown",
   "metadata": {},
   "source": [
    "# Write a SQL query that returns:\n",
    "all majors with majority female and\n",
    "all majors had a median salary greater than 50000.\n",
    "Only include the following columns in the results and in this order:\n",
    "Major\n",
    "Major_category\n",
    "Median\n",
    "ShareWomen"
   ]
  },
  {
   "cell_type": "code",
   "execution_count": 22,
   "metadata": {},
   "outputs": [],
   "source": [
    "#select Major, Major_category, Median, ShareWomen from recent_grads where ShareWomen>.50 and Median>50000;\n"
   ]
  },
  {
   "cell_type": "raw",
   "metadata": {},
   "source": [
    "Write a SQL query that returns the first 20 majors that either:\n",
    "have a Median salary greater than or equal to 10,000, or\n",
    "have less than or equal to 1,000 Unemployed people\n",
    "Only include the following columns in the results and in this order:\n",
    "Major\n",
    "Median\n",
    "Unemployed"
   ]
  },
  {
   "cell_type": "code",
   "execution_count": 23,
   "metadata": {},
   "outputs": [],
   "source": [
    "#select Major, Median, Unemployed FROM recent_grads where Median>=10000 or Unemployed<=1000 limit 20"
   ]
  },
  {
   "cell_type": "raw",
   "metadata": {},
   "source": [
    "Run the query we explored above, which returns all majors that:\n",
    "fell under the category of Engineering and\n",
    "either\n",
    "had mostly women graduates\n",
    "or had an unemployment rate below 5.1%, which was the rate in August 2015\n",
    "Only include the following columns in the results and in this order:\n",
    "Major\n",
    "Major_category\n",
    "ShareWomen\n",
    "Unemployment_rate"
   ]
  },
  {
   "cell_type": "code",
   "execution_count": 26,
   "metadata": {},
   "outputs": [],
   "source": [
    "#select Major, Major_category, ShareWomen, Unemployment_rate FROM recent_grads WHERE Major_category='Engineering'\n",
    "#AND (ShareWomen>.50 OR Unemployment_rate <.051 )"
   ]
  },
  {
   "cell_type": "raw",
   "metadata": {},
   "source": [
    "# Write a query that returns all majors where:\n",
    "ShareWomen is greater than 0.3\n",
    "and Unemployment_rate is less than .1\n",
    "Only include the following columns in the results and in this order:\n",
    "Major,\n",
    "ShareWomen,\n",
    "Unemployment_rate\n",
    "Order the results in descending order by the ShareWomen column."
   ]
  },
  {
   "cell_type": "raw",
   "metadata": {},
   "source": [
    "SELECT Major, ShareWomen, Unemployment_rate from recent_grads where ShareWomen>.3 and Unemployment_rate<.1\n",
    "order by ShareWomen desc"
   ]
  },
  {
   "cell_type": "raw",
   "metadata": {},
   "source": [
    "Write a query that returns the Engineering or Physical Sciences majors in ascending order of unemployment rates.\n",
    "The results should only contain the Major_category, Major, and Unemployment_rate columns."
   ]
  },
  {
   "cell_type": "raw",
   "metadata": {},
   "source": [
    "select Major_category, Major, Unemployment_rate FROM recent_grads  where  Major_category='Engineering' or Major_category='Physical Sciences'\n",
    "order by Unemployment_rate asc;"
   ]
  },
  {
   "cell_type": "code",
   "execution_count": null,
   "metadata": {},
   "outputs": [],
   "source": []
  }
 ],
 "metadata": {
  "kernelspec": {
   "display_name": "Python 3",
   "language": "python",
   "name": "python3"
  },
  "language_info": {
   "codemirror_mode": {
    "name": "ipython",
    "version": 3
   },
   "file_extension": ".py",
   "mimetype": "text/x-python",
   "name": "python",
   "nbconvert_exporter": "python",
   "pygments_lexer": "ipython3",
   "version": "3.7.1"
  }
 },
 "nbformat": 4,
 "nbformat_minor": 2
}
