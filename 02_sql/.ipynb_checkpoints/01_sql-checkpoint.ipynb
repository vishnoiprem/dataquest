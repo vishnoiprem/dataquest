{
 "cells": [
  {
   "cell_type": "code",
   "execution_count": 11,
   "metadata": {},
   "outputs": [],
   "source": [
    "import psycopg2\n"
   ]
  },
  {
   "cell_type": "code",
   "execution_count": 12,
   "metadata": {},
   "outputs": [],
   "source": [
    "conn = psycopg2.connect(\"dbname=postgres user=postgres\")\n",
    "cur = conn.cursor"
   ]
  },
  {
   "cell_type": "code",
   "execution_count": 13,
   "metadata": {},
   "outputs": [
    {
     "data": {
      "text/plain": [
       "<connection object at 0x10890c940; dsn: 'dbname=postgres user=postgres', closed: 0>"
      ]
     },
     "execution_count": 13,
     "metadata": {},
     "output_type": "execute_result"
    }
   ],
   "source": [
    "conn"
   ]
  },
  {
   "cell_type": "raw",
   "metadata": {},
   "source": [
    "Import the psycopg2 library.\n",
    "Connect to the dq database with the user dq.\n",
    "Initialize a Cursor object from the connection.\n",
    "Use the print function to display the Cursor object.\n",
    "Close the Connection using the close method."
   ]
  },
  {
   "cell_type": "code",
   "execution_count": 22,
   "metadata": {},
   "outputs": [],
   "source": [
    "dq=psycopg2.connect(\"dbname=dq user=dq\")"
   ]
  },
  {
   "cell_type": "code",
   "execution_count": 21,
   "metadata": {},
   "outputs": [],
   "source": [
    "#create user dq with encrypted password 'dq';\n",
    "#CREATE DATABASE dq;\n"
   ]
  },
  {
   "cell_type": "code",
   "execution_count": 25,
   "metadata": {},
   "outputs": [],
   "source": [
    "dq=psycopg2.connect(\"dbname=dq user=dq\")\n",
    "cur=dq.cursor\n",
    "dq.close()"
   ]
  },
  {
   "cell_type": "code",
   "execution_count": 26,
   "metadata": {},
   "outputs": [
    {
     "ename": "ProgrammingError",
     "evalue": "relation \"notes\" does not exist\nLINE 1: SELECT * FROM notes;\n                      ^\n",
     "output_type": "error",
     "traceback": [
      "\u001b[0;31m---------------------------------------------------------------------------\u001b[0m",
      "\u001b[0;31mProgrammingError\u001b[0m                          Traceback (most recent call last)",
      "\u001b[0;32m<ipython-input-26-a9339e1ad936>\u001b[0m in \u001b[0;36m<module>\u001b[0;34m\u001b[0m\n\u001b[1;32m      1\u001b[0m \u001b[0mconn\u001b[0m \u001b[0;34m=\u001b[0m \u001b[0mpsycopg2\u001b[0m\u001b[0;34m.\u001b[0m\u001b[0mconnect\u001b[0m\u001b[0;34m(\u001b[0m\u001b[0;34m\"dbname=dq user=dq\"\u001b[0m\u001b[0;34m)\u001b[0m\u001b[0;34m\u001b[0m\u001b[0;34m\u001b[0m\u001b[0m\n\u001b[1;32m      2\u001b[0m \u001b[0mcur\u001b[0m \u001b[0;34m=\u001b[0m \u001b[0mconn\u001b[0m\u001b[0;34m.\u001b[0m\u001b[0mcursor\u001b[0m\u001b[0;34m(\u001b[0m\u001b[0;34m)\u001b[0m\u001b[0;34m\u001b[0m\u001b[0;34m\u001b[0m\u001b[0m\n\u001b[0;32m----> 3\u001b[0;31m \u001b[0mcur\u001b[0m\u001b[0;34m.\u001b[0m\u001b[0mexecute\u001b[0m\u001b[0;34m(\u001b[0m\u001b[0;34m\"SELECT * FROM notes;\"\u001b[0m\u001b[0;34m)\u001b[0m\u001b[0;34m\u001b[0m\u001b[0;34m\u001b[0m\u001b[0m\n\u001b[0m\u001b[1;32m      4\u001b[0m \u001b[0;34m\u001b[0m\u001b[0m\n",
      "\u001b[0;31mProgrammingError\u001b[0m: relation \"notes\" does not exist\nLINE 1: SELECT * FROM notes;\n                      ^\n"
     ]
    }
   ],
   "source": [
    "conn = psycopg2.connect(\"dbname=dq user=dq\")\n",
    "cur = conn.cursor()\n",
    "cur.execute(\"SELECT * FROM notes;\")\n",
    "\n"
   ]
  },
  {
   "cell_type": "raw",
   "metadata": {},
   "source": [
    "CREATE TABLE tableName(\n",
    "   column1 dataType1 PRIMARY KEY,\n",
    "   column2 dataType2,\n",
    "   column3 dataType3,\n",
    ");"
   ]
  },
  {
   "cell_type": "markdown",
   "metadata": {},
   "source": [
    "# https://www.tutorialspoint.com/postgresql/postgresql_create_database.htm"
   ]
  },
  {
   "cell_type": "markdown",
   "metadata": {},
   "source": [
    "Connect to the dq database as the user dq\n",
    "Write a SQL query that creates a table called notes in the dq database, with the following columns and data types:\n",
    "id -- integer data type, and is a primary key.\n",
    "body -- text data type.\n",
    "title -- text data type.\n",
    "Execute the query using the execute method.\n",
    "Close the Connection using the close method."
   ]
  },
  {
   "cell_type": "raw",
   "metadata": {},
   "source": [
    "create table notes\n",
    "(\n",
    "id integer primary key\n",
    ",body text \n",
    ",title text\n",
    ")"
   ]
  },
  {
   "cell_type": "code",
   "execution_count": 31,
   "metadata": {},
   "outputs": [],
   "source": [
    "conn = psycopg2.connect(\"dbname=dq user=dq\")\n",
    "cur = conn.cursor()\n",
    "cur.execute(\"create table notes \\\n",
    "( \\\n",
    "id integer primary key \\\n",
    ",body text \\\n",
    ",title text \\\n",
    ");\"\\\n",
    ")\n",
    "\n",
    "cur.execute(\"SELECT * FROM notes;\")\n"
   ]
  },
  {
   "cell_type": "code",
   "execution_count": 32,
   "metadata": {},
   "outputs": [],
   "source": [
    "cur.execute(\"SELECT * FROM notes;\")\n"
   ]
  },
  {
   "cell_type": "code",
   "execution_count": 33,
   "metadata": {},
   "outputs": [],
   "source": [
    "conn = psycopg2.connect(\"dbname=dq user=dq\")\n",
    "cur = conn.cursor()\n",
    "cur.execute(\"create table notes \\\n",
    "( \\\n",
    "id integer primary key \\\n",
    ",body text \\\n",
    ",title text \\\n",
    ");\"\n",
    ")\n",
    "cur.execute(\"SELECT * FROM notes;\")\n",
    "cur.close()"
   ]
  },
  {
   "cell_type": "code",
   "execution_count": null,
   "metadata": {},
   "outputs": [],
   "source": []
  }
 ],
 "metadata": {
  "kernelspec": {
   "display_name": "Python 3",
   "language": "python",
   "name": "python3"
  },
  "language_info": {
   "codemirror_mode": {
    "name": "ipython",
    "version": 3
   },
   "file_extension": ".py",
   "mimetype": "text/x-python",
   "name": "python",
   "nbconvert_exporter": "python",
   "pygments_lexer": "ipython3",
   "version": "3.7.1"
  }
 },
 "nbformat": 4,
 "nbformat_minor": 2
}
